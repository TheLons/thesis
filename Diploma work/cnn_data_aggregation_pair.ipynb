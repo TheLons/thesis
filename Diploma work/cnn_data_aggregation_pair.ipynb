{
 "cells": [
  {
   "cell_type": "markdown",
   "metadata": {},
   "source": [
    "# Data aggregation"
   ]
  },
  {
   "cell_type": "markdown",
   "metadata": {},
   "source": [
    "### Load data"
   ]
  },
  {
   "cell_type": "code",
   "execution_count": 837,
   "metadata": {},
   "outputs": [],
   "source": [
    "import sys\n",
    "import pickle\n",
    "import pandas as pd\n",
    "import numpy as np\n",
    "import seaborn as sns\n",
    "import matplotlib.pyplot as plt\n",
    "\n",
    "from tqdm import trange\n",
    "from sklearn.model_selection import train_test_split\n",
    "from sklearn.preprocessing import OneHotEncoder"
   ]
  },
  {
   "cell_type": "code",
   "execution_count": 785,
   "metadata": {},
   "outputs": [],
   "source": [
    "def load_data(data_name):\n",
    "    pkl_file = open(data_name + '.pkl', 'rb')\n",
    "    data = pickle.load(pkl_file)\n",
    "    pkl_file.close()\n",
    "    return data"
   ]
  },
  {
   "cell_type": "code",
   "execution_count": 786,
   "metadata": {},
   "outputs": [
    {
     "name": "stdout",
     "output_type": "stream",
     "text": [
      "8765\n",
      "6905\n",
      "Amount of proteins, which we have after bounding:  504\n"
     ]
    }
   ],
   "source": [
    "#  Load data and target\n",
    "\n",
    "data_train = load_data('train_data')\n",
    "two_matrix = load_data('two_matrix_200')\n",
    "seq = load_data('FASTA')\n",
    "data_features = pd.read_csv('pdb_and_features.csv')\n",
    "data_features = data_features.reset_index(drop=True)\n",
    "\n",
    "num_classes = 2\n",
    "\n",
    "print(len(data_train))\n",
    "print(len(two_matrix))\n",
    "\n",
    "protein_len = []\n",
    "pdb_200 = []\n",
    "\n",
    "low_border = 25\n",
    "high_border = 40\n",
    "\n",
    "s = 0\n",
    "for i in range(len(two_matrix)):\n",
    "    if (np.shape(two_matrix[i][2])[0] <= high_border) and (np.shape(two_matrix[i][2])[0] >= low_border):\n",
    "        s +=1\n",
    "\n",
    "print('Amount of proteins, which we have after bounding: ', s)"
   ]
  },
  {
   "cell_type": "markdown",
   "metadata": {},
   "source": [
    "### Some information"
   ]
  },
  {
   "cell_type": "code",
   "execution_count": 788,
   "metadata": {},
   "outputs": [],
   "source": [
    "length = []\n",
    "\n",
    "for i in range(len(data_features['FASTA'])):\n",
    "    \n",
    "    if len(data_features['FASTA'][i]) <= high_border and len(data_features['FASTA'][i]) >= low_border:\n",
    "        length.append(len(data_features['FASTA'][i]))"
   ]
  },
  {
   "cell_type": "code",
   "execution_count": 840,
   "metadata": {},
   "outputs": [
    {
     "data": {
      "image/png": "[encoded data removed]",
      "text/plain": [
       "<Figure size 432x288 with 1 Axes>"
      ]
     },
     "metadata": {
      "needs_background": "light"
     },
     "output_type": "display_data"
    }
   ],
   "source": [
    "ax = sns.distplot(length, bins=15)\n",
    "ax.set_title('Protein distribution')\n",
    "ax.set_xlabel('Number of residues')\n",
    "plt.savefig('protein_dis.png', dpi=300)"
   ]
  },
  {
   "cell_type": "markdown",
   "metadata": {},
   "source": [
    "### Zero padding"
   ]
  },
  {
   "cell_type": "code",
   "execution_count": 790,
   "metadata": {},
   "outputs": [],
   "source": [
    "#  Apply zero-padding to make same size for all train and target samples\n",
    "\n",
    "target = []\n",
    "mm = high_border\n",
    "\n",
    "for i in range(len(two_matrix)):\n",
    "    \n",
    "    if (high_border >= np.shape(two_matrix[i][2])[0]) and (np.shape(two_matrix[i][2])[0] >= low_border):\n",
    "        \n",
    "        f = np.zeros((mm - np.shape(two_matrix[i][2])[0], np.shape(two_matrix[i][2])[0]))\n",
    "        f1 = np.zeros((mm, mm - np.shape(two_matrix[i][2])[0]))\n",
    "        bot = np.concatenate((two_matrix[i][2], f), axis=0)\n",
    "        target.append([two_matrix[i][0], np.concatenate((bot, f1), axis=1), len(two_matrix[i][2])])\n",
    "        \n",
    "\n",
    "train = []\n",
    "fasta = []\n",
    "mm = high_border\n",
    "\n",
    "for i in range(len(data_train)):\n",
    "    \n",
    "    if (high_border >= np.shape(data_train[i][1])[0]) and (len(data_features.FASTA[i]) <= high_border) and \\\n",
    "            (len(data_features.FASTA[i]) >= low_border):\n",
    "        \n",
    "        f = np.zeros((mm - np.shape(data_train[i][1])[0], np.shape(data_train[i][1])[1]))\n",
    "        train.append([data_features.pdb_name[i], \n",
    "                      np.concatenate((data_train[i][1], f), axis=0), \n",
    "                      len(data_features.FASTA[i]),\n",
    "                      data_features.FASTA[i]])\n",
    "        \n",
    "    elif (len(data_features.FASTA[i]) <= high_border) and (len(data_features.FASTA[i]) >= low_border):\n",
    "        \n",
    "        train.append([data_features.pdb_name[i], \n",
    "                      data_train[i][1][:mm], \n",
    "                      len(data_features.FASTA[i]), \n",
    "                      data_features.FASTA[i]])"
   ]
  },
  {
   "cell_type": "code",
   "execution_count": 791,
   "metadata": {},
   "outputs": [
    {
     "data": {
      "text/plain": [
       "((499, 4), (504, 3), (0,))"
      ]
     },
     "execution_count": 791,
     "metadata": {},
     "output_type": "execute_result"
    }
   ],
   "source": [
    "np.shape(train), np.shape(target), np.shape(fasta)"
   ]
  },
  {
   "cell_type": "markdown",
   "metadata": {},
   "source": [
    "### Distance distribution"
   ]
  },
  {
   "cell_type": "code",
   "execution_count": 792,
   "metadata": {},
   "outputs": [],
   "source": [
    "dist = []\n",
    "dist_number = [0] * high_border\n",
    "\n",
    "for i in range(len(target)):\n",
    "    for j in range(high_border):\n",
    "        for k in range(j + 1, high_border):\n",
    "            \n",
    "            if target[i][1][j][k] == 1:\n",
    "                \n",
    "                dist.append(k - j)\n",
    "                dist_number[k - j] += 1"
   ]
  },
  {
   "cell_type": "code",
   "execution_count": 839,
   "metadata": {},
   "outputs": [
    {
     "data": {
      "image/png": "[encoded data removed]",
      "text/plain": [
       "<Figure size 432x288 with 1 Axes>"
      ]
     },
     "metadata": {
      "needs_background": "light"
     },
     "output_type": "display_data"
    }
   ],
   "source": [
    "ax = sns.distplot(dist, bins = 40)\n",
    "\n",
    "ax.set_title('Amino acid distance distribution')\n",
    "ax.set_xlabel('Distance between residues')\n",
    "plt.savefig('aminoacid_dis.png', dpi=300)"
   ]
  },
  {
   "cell_type": "markdown",
   "metadata": {},
   "source": [
    "### train - target alignment"
   ]
  },
  {
   "cell_type": "code",
   "execution_count": 794,
   "metadata": {},
   "outputs": [],
   "source": [
    "real_train = []\n",
    "real_target = []\n",
    "\n",
    "for i in range(len(target)):\n",
    "    \n",
    "    for j in range(len(train)):\n",
    "        \n",
    "        if train[j][0] == target[i][0]:\n",
    "            real_train.append(train[j])\n",
    "            real_target.append(target[i])\n",
    "            \n",
    "            break"
   ]
  },
  {
   "cell_type": "code",
   "execution_count": 795,
   "metadata": {},
   "outputs": [
    {
     "data": {
      "text/plain": [
       "((486, 4), (486, 3), (0,))"
      ]
     },
     "execution_count": 795,
     "metadata": {},
     "output_type": "execute_result"
    }
   ],
   "source": [
    "np.shape(real_train), np.shape(real_target)"
   ]
  },
  {
   "cell_type": "markdown",
   "metadata": {},
   "source": [
    "## Statistical features"
   ]
  },
  {
   "cell_type": "markdown",
   "metadata": {},
   "source": [
    "Features: affinity score matrix, length of each protein, distance between every amino acid"
   ]
  },
  {
   "cell_type": "markdown",
   "metadata": {},
   "source": [
    "### Affinity score matrix"
   ]
  },
  {
   "cell_type": "markdown",
   "metadata": {},
   "source": [
    "Affinity(a, b) = Contact(A, B) / (Contact(A, B) + NonContact(A, B))\n",
    "\n",
    "separation distance $\\geq$ 6"
   ]
  },
  {
   "cell_type": "code",
   "execution_count": 797,
   "metadata": {},
   "outputs": [],
   "source": [
    "def affinity_matrix(seq, two_matrix):\n",
    "    \n",
    "    # 20 is the number of amino acids\n",
    "    aa = {'A' : 0, 'C' : 1, 'D' : 2, 'E' : 3, 'F' : 4, 'G' : 5, 'H' : 6, 'I' : 7, 'K' : 8, 'L' : 9, \n",
    "          'M' : 10, 'N' : 11, 'P' : 12, 'Q' : 13, 'R' : 14, 'S' : 15, 'T' : 16, 'V' : 17, 'W' : 18, 'Y' : 19}\n",
    "    \n",
    "    aff_matrix = [[0] * 20 for i in range(20)]\n",
    "    matrix = [[0] * 20 for i in range(20)]\n",
    "        \n",
    "    if len(seq) != np.shape(two_matrix)[0]:\n",
    "        return np.array(aff_matrix), np.array(matrix), 0\n",
    "    \n",
    "    for i in range(len(seq)):\n",
    "        for j in range(i + 6, len(seq)):\n",
    "            \n",
    "            matrix[aa[seq[i]]][aa[seq[j]]] += 1\n",
    "            matrix[aa[seq[j]]][aa[seq[i]]] += 1\n",
    "                \n",
    "            if two_matrix[i][j] == 1:\n",
    "                \n",
    "                aff_matrix[aa[seq[i]]][aa[seq[j]]] += 1\n",
    "                aff_matrix[aa[seq[j]]][aa[seq[i]]] += 1\n",
    "                \n",
    "    return np.array(aff_matrix), np.array(matrix), 1\n",
    "\n",
    "\n",
    "def get_probability(first, second, aff_matrix):\n",
    "    \n",
    "    aa = {'A' : 0, 'C' : 1, 'D' : 2, 'E' : 3, 'F' : 4, 'G' : 5, 'H' : 6, 'I' : 7, 'K' : 8, 'L' : 9, \n",
    "      'M' : 10, 'N' : 11, 'P' : 12, 'Q' : 13, 'R' : 14, 'S' : 15, 'T' : 16, 'V' : 17, 'W' : 18, 'Y' : 19}\n",
    "    \n",
    "    return aff_matrix[aa[first]][aa[second]]"
   ]
  },
  {
   "cell_type": "code",
   "execution_count": 798,
   "metadata": {},
   "outputs": [],
   "source": [
    "aff_matrix = [[0] * 20 for i in range(20)]\n",
    "matrix = [[0] * 20 for i in range(20)]\n",
    "count = 0\n",
    "\n",
    "for i in range(len(real_train)):\n",
    "    for j in range(len(two_matrix)):\n",
    "        \n",
    "        if real_train[i][0] == two_matrix[j][0]:\n",
    "            \n",
    "            aff, m, cnt = affinity_matrix(real_train[i][3], two_matrix[j][2])\n",
    "            aff_matrix = np.add(aff_matrix, aff)\n",
    "            matrix = np.add(matrix, m)\n",
    "            count += cnt"
   ]
  },
  {
   "cell_type": "markdown",
   "metadata": {},
   "source": [
    "The affinity score matrix"
   ]
  },
  {
   "cell_type": "code",
   "execution_count": 799,
   "metadata": {},
   "outputs": [],
   "source": [
    "aff_matrix = np.divide(aff_matrix, matrix)"
   ]
  },
  {
   "cell_type": "markdown",
   "metadata": {},
   "source": [
    "### Length of each protein"
   ]
  },
  {
   "cell_type": "code",
   "execution_count": 800,
   "metadata": {},
   "outputs": [],
   "source": [
    "len_matrix = []\n",
    "\n",
    "for i in range(len(real_train)):\n",
    "    \n",
    "    len_matrix.append([real_train[i][0], len(real_train[i][3])])"
   ]
  },
  {
   "cell_type": "code",
   "execution_count": 801,
   "metadata": {},
   "outputs": [
    {
     "data": {
      "text/plain": [
       "[['1CKZ', 25], ['1Y4E', 27], ['1LYP', 32], ['2K84', 30], ['1B9U', 34]]"
      ]
     },
     "execution_count": 801,
     "metadata": {},
     "output_type": "execute_result"
    }
   ],
   "source": [
    "len_matrix[:5]"
   ]
  },
  {
   "cell_type": "markdown",
   "metadata": {},
   "source": [
    "delete"
   ]
  },
  {
   "cell_type": "markdown",
   "metadata": {},
   "source": [
    "### train_test_split"
   ]
  },
  {
   "cell_type": "code",
   "execution_count": 802,
   "metadata": {},
   "outputs": [],
   "source": [
    "train, train_val_test, train_label, target_val_test = train_test_split(real_train, real_target, test_size=0.3, random_state=13)\n",
    "test, valid, test_label, valid_label = train_test_split(train_val_test, target_val_test, test_size=0.5, random_state=13)\n"
   ]
  },
  {
   "cell_type": "code",
   "execution_count": 770,
   "metadata": {},
   "outputs": [
    {
     "data": {
      "text/plain": [
       "((340, 4), (73, 4))"
      ]
     },
     "execution_count": 770,
     "metadata": {},
     "output_type": "execute_result"
    }
   ],
   "source": [
    "np.shape(train), np.shape(test)"
   ]
  },
  {
   "cell_type": "code",
   "execution_count": 841,
   "metadata": {},
   "outputs": [
    {
     "data": {
      "text/plain": [
       "'1CBH'"
      ]
     },
     "execution_count": 841,
     "metadata": {},
     "output_type": "execute_result"
    }
   ],
   "source": [
    "test[34][0]"
   ]
  },
  {
   "cell_type": "markdown",
   "metadata": {},
   "source": [
    "### Train test transformations"
   ]
  },
  {
   "cell_type": "markdown",
   "metadata": {},
   "source": [
    "\"Train_transform\" is for one dimensional features and \"pairwise_train_transform\" is for pairwise features"
   ]
  },
  {
   "cell_type": "code",
   "execution_count": 832,
   "metadata": {},
   "outputs": [],
   "source": [
    "# Some transformations to make train and target data\n",
    "# For neural networks\n",
    "\n",
    "def redo(x):\n",
    "    \n",
    "    out = []\n",
    "    for i in range(len(x)):\n",
    "        out.append(x[i][1])\n",
    "        \n",
    "    return np.array(out)\n",
    "\n",
    "\n",
    "def train_transform(x):\n",
    "    \n",
    "    x = redo(np.array(x))\n",
    "    x = np.expand_dims(x, axis=4)\n",
    "    \n",
    "    return x\n",
    "    \n",
    "\n",
    "def reshape_of_labels(x):\n",
    "    \n",
    "    lst1 = [[[0 for col in range(x.shape[2])] for col in range(x.shape[0])] for row in range(x.shape[1])]\n",
    "    for i in range(len(x)):\n",
    "        for j in range(len(x[i])):\n",
    "            for k in range(len(x[i][j])):\n",
    "                lst1[j][i][k] = x[i, j, k]\n",
    "                \n",
    "    return lst1\n",
    "\n",
    "\n",
    "def triangle_target_transform(x):\n",
    "            \n",
    "    res = []\n",
    "    for i in range(x.shape[0]):\n",
    "        res.append(x[i][1][np.triu_indices(len(x[i][1]), k = 1)])\n",
    "    \n",
    "    return np.array(res)\n",
    "\n",
    "    \n",
    "def target_transform(x):\n",
    "    \n",
    "    new_x = []\n",
    "    x = triangle_target_transform(x)\n",
    "    \n",
    "    enc = OneHotEncoder(sparse = False)\n",
    "    \n",
    "    for i in range(len(x)):\n",
    "\n",
    "        new_x.append(enc.fit_transform(x[i].reshape(-1, 1)))\n",
    "        \n",
    "    x = reshape_of_labels(np.array(new_x))\n",
    "    \n",
    "    return np.array(x)\n",
    "\n",
    "\n",
    "def save_file(data, data_name):\n",
    "    \n",
    "    output = open(data_name + '.pkl', 'wb')\n",
    "    pickle.dump(data, output)\n",
    "    output.close()\n",
    "    \n",
    "    \n",
    "def pairwise_train_transform(x, aff_matrix):\n",
    "    \n",
    "    out_matrix = []\n",
    "    out = []\n",
    "    dist = []\n",
    "    \n",
    "    for i in range(len(x)):\n",
    "        out_matrix = []\n",
    "        \n",
    "        for j in range(len(x[i][1])):\n",
    "            for k in range(j + 1, len(x[i][1])):\n",
    "                \n",
    "                if j < x[i][2] and k < x[i][2]:\n",
    "                    pair = [k - j, get_probability(x[i][3][j], x[i][3][k], aff_matrix), len(x[i][3])]\n",
    "\n",
    "                    out_matrix.append(np.concatenate([\n",
    "                        x[i][1][j], \n",
    "                        x[i][1][k],\n",
    "                        pair]))\n",
    "                else:\n",
    "                    pair = [0, 0, 0]\n",
    "\n",
    "                    out_matrix.append(np.concatenate([\n",
    "                        np.zeros(len(x[i][1][j])), \n",
    "                        np.zeros(len(x[i][1][k])),\n",
    "                        pair]))\n",
    "                     \n",
    "        out.append(np.array(out_matrix))\n",
    "            \n",
    "    out = np.array(out)\n",
    "    out = np.expand_dims(out, axis=4)\n",
    "    \n",
    "    return np.array(out)\n",
    "\n",
    "\n",
    "def pairwise_target_transform(x):\n",
    "    \n",
    "    x = triangle_target_transform(x)\n",
    "    \n",
    "    return x"
   ]
  },
  {
   "cell_type": "markdown",
   "metadata": {},
   "source": [
    "### Train data "
   ]
  },
  {
   "cell_type": "markdown",
   "metadata": {},
   "source": [
    "Pairwise features"
   ]
  },
  {
   "cell_type": "code",
   "execution_count": 826,
   "metadata": {},
   "outputs": [
    {
     "name": "stderr",
     "output_type": "stream",
     "text": [
      "<ipython-input-804-8683ede5e660>:108: DeprecationWarning: Both axis > a.ndim and axis < -a.ndim - 1 are deprecated and will raise an AxisError in the future.\n",
      "  out = np.expand_dims(out, axis=4)\n"
     ]
    }
   ],
   "source": [
    "def batch(iterable, n = 1):\n",
    "    \n",
    "    l = len(iterable)\n",
    "    \n",
    "    for ndx in range(0, l, n):\n",
    "        \n",
    "        yield iterable[ndx : min(ndx + n, l)]\n",
    "\n",
    "pairwise_train = []\n",
    "pairwise_test = []\n",
    "pairwise_valid = []\n",
    "        \n",
    "for x in batch(train, 10):\n",
    "    result = pairwise_train_transform(x, aff_matrix)\n",
    "    \n",
    "    for i in range(len(result)):\n",
    "        pairwise_train.append(result[i])\n",
    "\n",
    "for x in batch(test, 10):\n",
    "    result = pairwise_train_transform(x, aff_matrix)\n",
    "    \n",
    "    for i in range(len(result)):\n",
    "        pairwise_test.append(result[i])\n",
    "    \n",
    "for x in batch(valid, 10):\n",
    "    result = pairwise_train_transform(x, aff_matrix)\n",
    "    \n",
    "    for i in range(len(result)):\n",
    "        pairwise_valid.append(result[i])"
   ]
  },
  {
   "cell_type": "markdown",
   "metadata": {},
   "source": [
    "One dimensional features"
   ]
  },
  {
   "cell_type": "code",
   "execution_count": 805,
   "metadata": {},
   "outputs": [
    {
     "name": "stderr",
     "output_type": "stream",
     "text": [
      "<ipython-input-804-8683ede5e660>:16: DeprecationWarning: Both axis > a.ndim and axis < -a.ndim - 1 are deprecated and will raise an AxisError in the future.\n",
      "  x = np.expand_dims(x, axis=4)\n"
     ]
    }
   ],
   "source": [
    "one_train = train_transform(train)\n",
    "one_test = train_transform(test)\n",
    "one_valid = train_transform(valid)"
   ]
  },
  {
   "cell_type": "markdown",
   "metadata": {},
   "source": [
    "### Target data"
   ]
  },
  {
   "cell_type": "code",
   "execution_count": 827,
   "metadata": {},
   "outputs": [],
   "source": [
    "def get_target(train_label, test_label, valid_label, model):\n",
    "    \n",
    "    if model == 'machine':\n",
    "        \n",
    "        pairwise_train_label = triangle_target_transform(np.array(train_label))\n",
    "        pairwise_test_label = triangle_target_transform(np.array(test_label))\n",
    "        pairwise_valid_label = triangle_target_transform(np.array(valid_label))\n",
    "        \n",
    "    elif model == 'neural':\n",
    "        \n",
    "        pairwise_train_label = target_transform(np.array(train_label))\n",
    "        pairwise_test_label = target_transform(np.array(test_label))\n",
    "        pairwise_valid_label = target_transform(np.array(valid_label))\n",
    "        \n",
    "    else:\n",
    "        \n",
    "        raise ValueError('No model type was found')\n",
    "        \n",
    "    return pairwise_train_label, pairwise_test_label, pairwise_valid_label"
   ]
  },
  {
   "cell_type": "code",
   "execution_count": 833,
   "metadata": {},
   "outputs": [],
   "source": [
    "pairwise_train_label, pairwise_test_label, pairwise_valid_label = get_target(train_label,\n",
    "                                                                            test_label, \n",
    "                                                                            valid_label, \n",
    "                                                                            'neural')"
   ]
  },
  {
   "cell_type": "code",
   "execution_count": 834,
   "metadata": {},
   "outputs": [],
   "source": [
    "one_train_label, one_test_label, one_valid_label = get_target(train_label,\n",
    "                                                                test_label, \n",
    "                                                                valid_label, \n",
    "                                                                'neural')"
   ]
  },
  {
   "cell_type": "code",
   "execution_count": 829,
   "metadata": {},
   "outputs": [
    {
     "data": {
      "text/plain": [
       "((340, 780, 115, 1), (780, 340, 2))"
      ]
     },
     "execution_count": 829,
     "metadata": {},
     "output_type": "execute_result"
    }
   ],
   "source": [
    "np.shape(pairwise_train), np.shape(pairwise_train_label)"
   ]
  },
  {
   "cell_type": "code",
   "execution_count": 808,
   "metadata": {},
   "outputs": [
    {
     "data": {
      "text/plain": [
       "((340, 40, 56, 1), (780, 340, 2))"
      ]
     },
     "execution_count": 808,
     "metadata": {},
     "output_type": "execute_result"
    }
   ],
   "source": [
    "np.shape(one_train), np.shape(one_train_label)"
   ]
  },
  {
   "cell_type": "markdown",
   "metadata": {},
   "source": [
    "### Save files"
   ]
  },
  {
   "cell_type": "code",
   "execution_count": 830,
   "metadata": {},
   "outputs": [],
   "source": [
    "def save(train, train_label, test, test_label, valid, valid_label):\n",
    "    \n",
    "    save_file(train, 'train')\n",
    "    save_file(train_label, 'train_label')\n",
    "    save_file(test, 'test')\n",
    "    save_file(test_label, 'test_label')\n",
    "    save_file(valid, 'valid')\n",
    "    save_file(valid_label, 'valid_label')"
   ]
  },
  {
   "cell_type": "code",
   "execution_count": 812,
   "metadata": {},
   "outputs": [],
   "source": [
    "save(one_train, one_train_label, one_test, one_test_label, one_valid, one_valid_label)"
   ]
  },
  {
   "cell_type": "code",
   "execution_count": 831,
   "metadata": {},
   "outputs": [],
   "source": [
    "save(pairwise_train, pairwise_train_label, pairwise_test, pairwise_test_label, pairwise_valid, pairwise_valid_label)"
   ]
  }
 ],
 "metadata": {
  "anaconda-cloud": {},
  "kernelspec": {
   "display_name": "Python 3",
   "language": "python",
   "name": "python3"
  },
  "language_info": {
   "codemirror_mode": {
    "name": "ipython",
    "version": 3
   },
   "file_extension": ".py",
   "mimetype": "text/x-python",
   "name": "python",
   "nbconvert_exporter": "python",
   "pygments_lexer": "ipython3",
   "version": "3.8.1"
  }
 },
 "nbformat": 4,
 "nbformat_minor": 1
}
