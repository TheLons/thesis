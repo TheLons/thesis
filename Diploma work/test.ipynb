{
 "cells": [
  {
   "cell_type": "markdown",
   "metadata": {},
   "source": [
    "# Test"
   ]
  },
  {
   "cell_type": "markdown",
   "metadata": {},
   "source": [
    "### Load data"
   ]
  },
  {
   "cell_type": "code",
   "execution_count": 1,
   "metadata": {},
   "outputs": [],
   "source": [
    "import pickle\n",
    "import sys\n",
    "import numpy as np\n",
    "import pandas as pd\n",
    "import seaborn as sns\n",
    "import matplotlib.pyplot as plt\n",
    "\n",
    "from sklearn.metrics import f1_score\n",
    "from sklearn.metrics import f1_score\n",
    "from sklearn.metrics import accuracy_score\n",
    "\n",
    "def load_data(data_name):\n",
    "    pkl_file = open(data_name + '.pkl', 'rb')\n",
    "    data = pickle.load(pkl_file)\n",
    "    pkl_file.close()\n",
    "    return data"
   ]
  },
  {
   "cell_type": "markdown",
   "metadata": {},
   "source": [
    "Load results"
   ]
  },
  {
   "cell_type": "code",
   "execution_count": 2,
   "metadata": {},
   "outputs": [],
   "source": [
    "pred = ['bi', 'cnn', '2bi', 'resnet', '1bi', 'lstm', '2bipair', 'cat', 'log', 'xg']\n",
    "predicted = []\n",
    "\n",
    "test = load_data('./predictions/test')\n",
    "test2 = load_data('./predictions/test_m')\n",
    "\n",
    "for i in range(len(pred)):\n",
    "    predicted.append(load_data('./predictions/pred_' + pred[i]))"
   ]
  },
  {
   "cell_type": "markdown",
   "metadata": {},
   "source": [
    "Reshape results "
   ]
  },
  {
   "cell_type": "code",
   "execution_count": 3,
   "metadata": {},
   "outputs": [],
   "source": [
    "shape = (780 * 73, 2)\n",
    "\n",
    "test = np.array(test).reshape(shape)\n",
    "\n",
    "for i in range(len(pred[:7])):\n",
    "    predicted[i] = np.array(predicted[i]).reshape(shape)"
   ]
  },
  {
   "cell_type": "markdown",
   "metadata": {},
   "source": [
    "### Metrics "
   ]
  },
  {
   "cell_type": "markdown",
   "metadata": {},
   "source": [
    "Cutoffs (L∕10, L∕5, L∕2 and L)"
   ]
  },
  {
   "cell_type": "code",
   "execution_count": 193,
   "metadata": {},
   "outputs": [],
   "source": [
    "# F1_score, precision, recall\n",
    "\n",
    "import operator\n",
    "from sklearn.metrics import recall_score\n",
    "from sklearn.metrics import precision_score\n",
    "\n",
    "def score(test_label, predicted, metric, model):\n",
    "    \n",
    "    id_score = {}\n",
    "    pred = []\n",
    "    test = []\n",
    "    \n",
    "    L = 0\n",
    "    L_2 = 0\n",
    "    L_5 = 0\n",
    "    L_10 = 0\n",
    "    \n",
    "    for i in range(len(predicted)):\n",
    "        id_score[i] = predicted[i][1]\n",
    "        \n",
    "    for key, value in reversed(sorted(id_score.items(), key=operator.itemgetter(1))):\n",
    "        \n",
    "        pred.append(np.argmax([1 - value, value]))\n",
    "        \n",
    "        if model == 'neural':\n",
    "            test.append(np.argmax(test_label[key]))\n",
    "            \n",
    "        elif model == 'machine':\n",
    "            test.append(test_label[key])\n",
    "            \n",
    "        else:\n",
    "            raise ValueError('No model type was found')\n",
    "            \n",
    "        \n",
    "    if metric == 'recall':\n",
    "        \n",
    "        L = recall_score(test, pred)\n",
    "        L_2 = recall_score(test[:len(test) // 2], pred[:len(pred) // 2])\n",
    "        L_5 = recall_score(test[:len(test) // 5], pred[:len(pred) // 5]) \n",
    "        L_10 = recall_score(test[:len(test) // 10], pred[:len(pred) // 10])\n",
    "        \n",
    "    elif metric == 'f1':\n",
    "        \n",
    "        L = f1_score(test, pred)\n",
    "        L_2 = f1_score(test[:len(test) // 2], pred[:len(pred) // 2])\n",
    "        L_5 = f1_score(test[:len(test) // 5], pred[:len(pred) // 5])\n",
    "        L_10 = f1_score(test[:len(test) // 10], pred[:len(pred) // 10])\n",
    "        \n",
    "    elif metric == 'precision':\n",
    "        \n",
    "        L = precision_score(test, pred)\n",
    "        L_2 = precision_score(test[:len(test) // 2], pred[:len(pred) // 2])\n",
    "        L_5 = precision_score(test[:len(test) // 5], pred[:len(pred) // 5])\n",
    "        L_10 = precision_score(test[:len(test) // 10], pred[:len(pred) // 10])\n",
    "        \n",
    "    else:\n",
    "        \n",
    "        raise ValueError('No metric was found')\n",
    "            \n",
    "    return L, L_2, L_5, L_10\n",
    "\n",
    "    \n",
    "def results(test_label, proba, model):\n",
    "    \n",
    "    result = []\n",
    "    metrics = ['f1', 'precision', 'recall']\n",
    "    print_metrics = ['F1 score:', 'Precision score:', 'Recall score:']\n",
    "    \n",
    "    for i in range(len(metrics)):\n",
    "        \n",
    "        L, L_2, L_5, L_10 = score(test_label, proba, metrics[i], model)\n",
    "        result.append([L, L_2, L_5, L_10])\n",
    "    \n",
    "    return result\n",
    "\n",
    "\n",
    "def highlight_max(s):\n",
    "\n",
    "    is_max = s == s.max()\n",
    "    \n",
    "    return ['background-color: yellow' if v else '' for v in is_max]"
   ]
  },
  {
   "cell_type": "markdown",
   "metadata": {},
   "source": [
    "Get score for each model"
   ]
  },
  {
   "cell_type": "code",
   "execution_count": 194,
   "metadata": {},
   "outputs": [],
   "source": [
    "res = []\n",
    "\n",
    "for i in range(len(pred[:7])):\n",
    "    res.append(results(test, predicted[i], 'neural'))\n",
    "    \n",
    "for i in range(7, len(pred)):\n",
    "    res.append(results(test2, predicted[i], 'machine'))"
   ]
  },
  {
   "cell_type": "code",
   "execution_count": 195,
   "metadata": {},
   "outputs": [],
   "source": [
    "models = ['Bidirectional LSTM', 'CNN', 'ResNet + BiLSTM', 'ResNet', \n",
    "          'Conv1D + BiLSTM', 'LSTM', 'ResNet + BiLSTM (pairwise)', 'CatBoost', 'Logistic Regression', 'XGBoost']\n",
    "\n",
    "L_array = ['L', 'L/2', 'L/5', 'L/10']"
   ]
  },
  {
   "cell_type": "code",
   "execution_count": 196,
   "metadata": {},
   "outputs": [],
   "source": [
    "def get_df(x, models, L_array, metric):\n",
    "    \n",
    "    \"\"\"\n",
    "    x - scores\n",
    "    metric - 0 : f1\n",
    "             1 : precision\n",
    "             2 : recall\n",
    "    \"\"\"\n",
    "    \n",
    "    df = []\n",
    "\n",
    "    for i in range(np.shape(x)[0]):\n",
    "        df.append(x[i][metric])\n",
    "\n",
    "    df = pd.DataFrame(df)\n",
    "    df.index = models\n",
    "    df.columns = L_array\n",
    "    \n",
    "    return df"
   ]
  },
  {
   "cell_type": "code",
   "execution_count": 197,
   "metadata": {},
   "outputs": [
    {
     "data": {
      "text/html": [
       "<style  type=\"text/css\" >\n",
       "    #T_5a259756_9494_11ea_be73_8c8590af6cf8row6_col0 {\n",
       "            background-color:  yellow;\n",
       "        }    #T_5a259756_9494_11ea_be73_8c8590af6cf8row6_col1 {\n",
       "            background-color:  yellow;\n",
       "        }    #T_5a259756_9494_11ea_be73_8c8590af6cf8row7_col3 {\n",
       "            background-color:  yellow;\n",
       "        }    #T_5a259756_9494_11ea_be73_8c8590af6cf8row9_col2 {\n",
       "            background-color:  yellow;\n",
       "        }</style><table id=\"T_5a259756_9494_11ea_be73_8c8590af6cf8\" ><thead>    <tr>        <th class=\"blank level0\" ></th>        <th class=\"col_heading level0 col0\" >L</th>        <th class=\"col_heading level0 col1\" >L/2</th>        <th class=\"col_heading level0 col2\" >L/5</th>        <th class=\"col_heading level0 col3\" >L/10</th>    </tr></thead><tbody>\n",
       "                <tr>\n",
       "                        <th id=\"T_5a259756_9494_11ea_be73_8c8590af6cf8level0_row0\" class=\"row_heading level0 row0\" >Bidirectional LSTM</th>\n",
       "                        <td id=\"T_5a259756_9494_11ea_be73_8c8590af6cf8row0_col0\" class=\"data row0 col0\" >0.771729</td>\n",
       "                        <td id=\"T_5a259756_9494_11ea_be73_8c8590af6cf8row0_col1\" class=\"data row0 col1\" >0.779323</td>\n",
       "                        <td id=\"T_5a259756_9494_11ea_be73_8c8590af6cf8row0_col2\" class=\"data row0 col2\" >0.855105</td>\n",
       "                        <td id=\"T_5a259756_9494_11ea_be73_8c8590af6cf8row0_col3\" class=\"data row0 col3\" >0.980392</td>\n",
       "            </tr>\n",
       "            <tr>\n",
       "                        <th id=\"T_5a259756_9494_11ea_be73_8c8590af6cf8level0_row1\" class=\"row_heading level0 row1\" >CNN</th>\n",
       "                        <td id=\"T_5a259756_9494_11ea_be73_8c8590af6cf8row1_col0\" class=\"data row1 col0\" >0.744203</td>\n",
       "                        <td id=\"T_5a259756_9494_11ea_be73_8c8590af6cf8row1_col1\" class=\"data row1 col1\" >0.758577</td>\n",
       "                        <td id=\"T_5a259756_9494_11ea_be73_8c8590af6cf8row1_col2\" class=\"data row1 col2\" >0.863153</td>\n",
       "                        <td id=\"T_5a259756_9494_11ea_be73_8c8590af6cf8row1_col3\" class=\"data row1 col3\" >0.972388</td>\n",
       "            </tr>\n",
       "            <tr>\n",
       "                        <th id=\"T_5a259756_9494_11ea_be73_8c8590af6cf8level0_row2\" class=\"row_heading level0 row2\" >ResNet + BiLSTM</th>\n",
       "                        <td id=\"T_5a259756_9494_11ea_be73_8c8590af6cf8row2_col0\" class=\"data row2 col0\" >0.774625</td>\n",
       "                        <td id=\"T_5a259756_9494_11ea_be73_8c8590af6cf8row2_col1\" class=\"data row2 col1\" >0.785463</td>\n",
       "                        <td id=\"T_5a259756_9494_11ea_be73_8c8590af6cf8row2_col2\" class=\"data row2 col2\" >0.864245</td>\n",
       "                        <td id=\"T_5a259756_9494_11ea_be73_8c8590af6cf8row2_col3\" class=\"data row2 col3\" >0.980666</td>\n",
       "            </tr>\n",
       "            <tr>\n",
       "                        <th id=\"T_5a259756_9494_11ea_be73_8c8590af6cf8level0_row3\" class=\"row_heading level0 row3\" >ResNet</th>\n",
       "                        <td id=\"T_5a259756_9494_11ea_be73_8c8590af6cf8row3_col0\" class=\"data row3 col0\" >0.761729</td>\n",
       "                        <td id=\"T_5a259756_9494_11ea_be73_8c8590af6cf8row3_col1\" class=\"data row3 col1\" >0.773674</td>\n",
       "                        <td id=\"T_5a259756_9494_11ea_be73_8c8590af6cf8row3_col2\" class=\"data row3 col2\" >0.850789</td>\n",
       "                        <td id=\"T_5a259756_9494_11ea_be73_8c8590af6cf8row3_col3\" class=\"data row3 col3\" >0.973407</td>\n",
       "            </tr>\n",
       "            <tr>\n",
       "                        <th id=\"T_5a259756_9494_11ea_be73_8c8590af6cf8level0_row4\" class=\"row_heading level0 row4\" >Conv1D + BiLSTM</th>\n",
       "                        <td id=\"T_5a259756_9494_11ea_be73_8c8590af6cf8row4_col0\" class=\"data row4 col0\" >0.764706</td>\n",
       "                        <td id=\"T_5a259756_9494_11ea_be73_8c8590af6cf8row4_col1\" class=\"data row4 col1\" >0.772076</td>\n",
       "                        <td id=\"T_5a259756_9494_11ea_be73_8c8590af6cf8row4_col2\" class=\"data row4 col2\" >0.852714</td>\n",
       "                        <td id=\"T_5a259756_9494_11ea_be73_8c8590af6cf8row4_col3\" class=\"data row4 col3\" >0.979844</td>\n",
       "            </tr>\n",
       "            <tr>\n",
       "                        <th id=\"T_5a259756_9494_11ea_be73_8c8590af6cf8level0_row5\" class=\"row_heading level0 row5\" >LSTM</th>\n",
       "                        <td id=\"T_5a259756_9494_11ea_be73_8c8590af6cf8row5_col0\" class=\"data row5 col0\" >0.740643</td>\n",
       "                        <td id=\"T_5a259756_9494_11ea_be73_8c8590af6cf8row5_col1\" class=\"data row5 col1\" >0.754162</td>\n",
       "                        <td id=\"T_5a259756_9494_11ea_be73_8c8590af6cf8row5_col2\" class=\"data row5 col2\" >0.865148</td>\n",
       "                        <td id=\"T_5a259756_9494_11ea_be73_8c8590af6cf8row5_col3\" class=\"data row5 col3\" >0.973314</td>\n",
       "            </tr>\n",
       "            <tr>\n",
       "                        <th id=\"T_5a259756_9494_11ea_be73_8c8590af6cf8level0_row6\" class=\"row_heading level0 row6\" >ResNet + BiLSTM (pairwise)</th>\n",
       "                        <td id=\"T_5a259756_9494_11ea_be73_8c8590af6cf8row6_col0\" class=\"data row6 col0\" >0.791192</td>\n",
       "                        <td id=\"T_5a259756_9494_11ea_be73_8c8590af6cf8row6_col1\" class=\"data row6 col1\" >0.801294</td>\n",
       "                        <td id=\"T_5a259756_9494_11ea_be73_8c8590af6cf8row6_col2\" class=\"data row6 col2\" >0.865514</td>\n",
       "                        <td id=\"T_5a259756_9494_11ea_be73_8c8590af6cf8row6_col3\" class=\"data row6 col3\" >0.975899</td>\n",
       "            </tr>\n",
       "            <tr>\n",
       "                        <th id=\"T_5a259756_9494_11ea_be73_8c8590af6cf8level0_row7\" class=\"row_heading level0 row7\" >CatBoost</th>\n",
       "                        <td id=\"T_5a259756_9494_11ea_be73_8c8590af6cf8row7_col0\" class=\"data row7 col0\" >0.779804</td>\n",
       "                        <td id=\"T_5a259756_9494_11ea_be73_8c8590af6cf8row7_col1\" class=\"data row7 col1\" >0.786592</td>\n",
       "                        <td id=\"T_5a259756_9494_11ea_be73_8c8590af6cf8row7_col2\" class=\"data row7 col2\" >0.86586</td>\n",
       "                        <td id=\"T_5a259756_9494_11ea_be73_8c8590af6cf8row7_col3\" class=\"data row7 col3\" >0.989799</td>\n",
       "            </tr>\n",
       "            <tr>\n",
       "                        <th id=\"T_5a259756_9494_11ea_be73_8c8590af6cf8level0_row8\" class=\"row_heading level0 row8\" >Logistic Regression</th>\n",
       "                        <td id=\"T_5a259756_9494_11ea_be73_8c8590af6cf8row8_col0\" class=\"data row8 col0\" >0.637077</td>\n",
       "                        <td id=\"T_5a259756_9494_11ea_be73_8c8590af6cf8row8_col1\" class=\"data row8 col1\" >0.662748</td>\n",
       "                        <td id=\"T_5a259756_9494_11ea_be73_8c8590af6cf8row8_col2\" class=\"data row8 col2\" >0.741596</td>\n",
       "                        <td id=\"T_5a259756_9494_11ea_be73_8c8590af6cf8row8_col3\" class=\"data row8 col3\" >0.874704</td>\n",
       "            </tr>\n",
       "            <tr>\n",
       "                        <th id=\"T_5a259756_9494_11ea_be73_8c8590af6cf8level0_row9\" class=\"row_heading level0 row9\" >XGBoost</th>\n",
       "                        <td id=\"T_5a259756_9494_11ea_be73_8c8590af6cf8row9_col0\" class=\"data row9 col0\" >0.785196</td>\n",
       "                        <td id=\"T_5a259756_9494_11ea_be73_8c8590af6cf8row9_col1\" class=\"data row9 col1\" >0.791615</td>\n",
       "                        <td id=\"T_5a259756_9494_11ea_be73_8c8590af6cf8row9_col2\" class=\"data row9 col2\" >0.869489</td>\n",
       "                        <td id=\"T_5a259756_9494_11ea_be73_8c8590af6cf8row9_col3\" class=\"data row9 col3\" >0.98953</td>\n",
       "            </tr>\n",
       "    </tbody></table>"
      ],
      "text/plain": [
       "<pandas.io.formats.style.Styler at 0x11d213f10>"
      ]
     },
     "execution_count": 197,
     "metadata": {},
     "output_type": "execute_result"
    }
   ],
   "source": [
    "# F1 score\n",
    "\n",
    "df_f1 = get_df(res, models, L_array, 0)\n",
    "df_f1.style.apply(highlight_max)"
   ]
  },
  {
   "cell_type": "code",
   "execution_count": 198,
   "metadata": {},
   "outputs": [
    {
     "data": {
      "text/html": [
       "<style  type=\"text/css\" >\n",
       "    #T_79002164_9494_11ea_be73_8c8590af6cf8row7_col3 {\n",
       "            background-color:  yellow;\n",
       "        }    #T_79002164_9494_11ea_be73_8c8590af6cf8row9_col0 {\n",
       "            background-color:  yellow;\n",
       "        }    #T_79002164_9494_11ea_be73_8c8590af6cf8row9_col1 {\n",
       "            background-color:  yellow;\n",
       "        }    #T_79002164_9494_11ea_be73_8c8590af6cf8row9_col2 {\n",
       "            background-color:  yellow;\n",
       "        }</style><table id=\"T_79002164_9494_11ea_be73_8c8590af6cf8\" ><thead>    <tr>        <th class=\"blank level0\" ></th>        <th class=\"col_heading level0 col0\" >L</th>        <th class=\"col_heading level0 col1\" >L/2</th>        <th class=\"col_heading level0 col2\" >L/5</th>        <th class=\"col_heading level0 col3\" >L/10</th>    </tr></thead><tbody>\n",
       "                <tr>\n",
       "                        <th id=\"T_79002164_9494_11ea_be73_8c8590af6cf8level0_row0\" class=\"row_heading level0 row0\" >Bidirectional LSTM</th>\n",
       "                        <td id=\"T_79002164_9494_11ea_be73_8c8590af6cf8row0_col0\" class=\"data row0 col0\" >0.879008</td>\n",
       "                        <td id=\"T_79002164_9494_11ea_be73_8c8590af6cf8row0_col1\" class=\"data row0 col1\" >0.879008</td>\n",
       "                        <td id=\"T_79002164_9494_11ea_be73_8c8590af6cf8row0_col2\" class=\"data row0 col2\" >0.879008</td>\n",
       "                        <td id=\"T_79002164_9494_11ea_be73_8c8590af6cf8row0_col3\" class=\"data row0 col3\" >0.961538</td>\n",
       "            </tr>\n",
       "            <tr>\n",
       "                        <th id=\"T_79002164_9494_11ea_be73_8c8590af6cf8level0_row1\" class=\"row_heading level0 row1\" >CNN</th>\n",
       "                        <td id=\"T_79002164_9494_11ea_be73_8c8590af6cf8row1_col0\" class=\"data row1 col0\" >0.88879</td>\n",
       "                        <td id=\"T_79002164_9494_11ea_be73_8c8590af6cf8row1_col1\" class=\"data row1 col1\" >0.88879</td>\n",
       "                        <td id=\"T_79002164_9494_11ea_be73_8c8590af6cf8row1_col2\" class=\"data row1 col2\" >0.88879</td>\n",
       "                        <td id=\"T_79002164_9494_11ea_be73_8c8590af6cf8row1_col3\" class=\"data row1 col3\" >0.946259</td>\n",
       "            </tr>\n",
       "            <tr>\n",
       "                        <th id=\"T_79002164_9494_11ea_be73_8c8590af6cf8level0_row2\" class=\"row_heading level0 row2\" >ResNet + BiLSTM</th>\n",
       "                        <td id=\"T_79002164_9494_11ea_be73_8c8590af6cf8row2_col0\" class=\"data row2 col0\" >0.874562</td>\n",
       "                        <td id=\"T_79002164_9494_11ea_be73_8c8590af6cf8row2_col1\" class=\"data row2 col1\" >0.874562</td>\n",
       "                        <td id=\"T_79002164_9494_11ea_be73_8c8590af6cf8row2_col2\" class=\"data row2 col2\" >0.874562</td>\n",
       "                        <td id=\"T_79002164_9494_11ea_be73_8c8590af6cf8row2_col3\" class=\"data row2 col3\" >0.962065</td>\n",
       "            </tr>\n",
       "            <tr>\n",
       "                        <th id=\"T_79002164_9494_11ea_be73_8c8590af6cf8level0_row3\" class=\"row_heading level0 row3\" >ResNet</th>\n",
       "                        <td id=\"T_79002164_9494_11ea_be73_8c8590af6cf8row3_col0\" class=\"data row3 col0\" >0.857814</td>\n",
       "                        <td id=\"T_79002164_9494_11ea_be73_8c8590af6cf8row3_col1\" class=\"data row3 col1\" >0.857814</td>\n",
       "                        <td id=\"T_79002164_9494_11ea_be73_8c8590af6cf8row3_col2\" class=\"data row3 col2\" >0.857814</td>\n",
       "                        <td id=\"T_79002164_9494_11ea_be73_8c8590af6cf8row3_col3\" class=\"data row3 col3\" >0.948191</td>\n",
       "            </tr>\n",
       "            <tr>\n",
       "                        <th id=\"T_79002164_9494_11ea_be73_8c8590af6cf8level0_row4\" class=\"row_heading level0 row4\" >Conv1D + BiLSTM</th>\n",
       "                        <td id=\"T_79002164_9494_11ea_be73_8c8590af6cf8row4_col0\" class=\"data row4 col0\" >0.862004</td>\n",
       "                        <td id=\"T_79002164_9494_11ea_be73_8c8590af6cf8row4_col1\" class=\"data row4 col1\" >0.862004</td>\n",
       "                        <td id=\"T_79002164_9494_11ea_be73_8c8590af6cf8row4_col2\" class=\"data row4 col2\" >0.862004</td>\n",
       "                        <td id=\"T_79002164_9494_11ea_be73_8c8590af6cf8row4_col3\" class=\"data row4 col3\" >0.960485</td>\n",
       "            </tr>\n",
       "            <tr>\n",
       "                        <th id=\"T_79002164_9494_11ea_be73_8c8590af6cf8level0_row5\" class=\"row_heading level0 row5\" >LSTM</th>\n",
       "                        <td id=\"T_79002164_9494_11ea_be73_8c8590af6cf8row5_col0\" class=\"data row5 col0\" >0.900399</td>\n",
       "                        <td id=\"T_79002164_9494_11ea_be73_8c8590af6cf8row5_col1\" class=\"data row5 col1\" >0.900399</td>\n",
       "                        <td id=\"T_79002164_9494_11ea_be73_8c8590af6cf8row5_col2\" class=\"data row5 col2\" >0.900399</td>\n",
       "                        <td id=\"T_79002164_9494_11ea_be73_8c8590af6cf8row5_col3\" class=\"data row5 col3\" >0.948015</td>\n",
       "            </tr>\n",
       "            <tr>\n",
       "                        <th id=\"T_79002164_9494_11ea_be73_8c8590af6cf8level0_row6\" class=\"row_heading level0 row6\" >ResNet + BiLSTM (pairwise)</th>\n",
       "                        <td id=\"T_79002164_9494_11ea_be73_8c8590af6cf8row6_col0\" class=\"data row6 col0\" >0.863538</td>\n",
       "                        <td id=\"T_79002164_9494_11ea_be73_8c8590af6cf8row6_col1\" class=\"data row6 col1\" >0.863538</td>\n",
       "                        <td id=\"T_79002164_9494_11ea_be73_8c8590af6cf8row6_col2\" class=\"data row6 col2\" >0.863538</td>\n",
       "                        <td id=\"T_79002164_9494_11ea_be73_8c8590af6cf8row6_col3\" class=\"data row6 col3\" >0.952933</td>\n",
       "            </tr>\n",
       "            <tr>\n",
       "                        <th id=\"T_79002164_9494_11ea_be73_8c8590af6cf8level0_row7\" class=\"row_heading level0 row7\" >CatBoost</th>\n",
       "                        <td id=\"T_79002164_9494_11ea_be73_8c8590af6cf8row7_col0\" class=\"data row7 col0\" >0.908456</td>\n",
       "                        <td id=\"T_79002164_9494_11ea_be73_8c8590af6cf8row7_col1\" class=\"data row7 col1\" >0.908456</td>\n",
       "                        <td id=\"T_79002164_9494_11ea_be73_8c8590af6cf8row7_col2\" class=\"data row7 col2\" >0.908456</td>\n",
       "                        <td id=\"T_79002164_9494_11ea_be73_8c8590af6cf8row7_col3\" class=\"data row7 col3\" >0.979803</td>\n",
       "            </tr>\n",
       "            <tr>\n",
       "                        <th id=\"T_79002164_9494_11ea_be73_8c8590af6cf8level0_row8\" class=\"row_heading level0 row8\" >Logistic Regression</th>\n",
       "                        <td id=\"T_79002164_9494_11ea_be73_8c8590af6cf8row8_col0\" class=\"data row8 col0\" >0.768555</td>\n",
       "                        <td id=\"T_79002164_9494_11ea_be73_8c8590af6cf8row8_col1\" class=\"data row8 col1\" >0.768555</td>\n",
       "                        <td id=\"T_79002164_9494_11ea_be73_8c8590af6cf8row8_col2\" class=\"data row8 col2\" >0.768555</td>\n",
       "                        <td id=\"T_79002164_9494_11ea_be73_8c8590af6cf8row8_col3\" class=\"data row8 col3\" >0.777309</td>\n",
       "            </tr>\n",
       "            <tr>\n",
       "                        <th id=\"T_79002164_9494_11ea_be73_8c8590af6cf8level0_row9\" class=\"row_heading level0 row9\" >XGBoost</th>\n",
       "                        <td id=\"T_79002164_9494_11ea_be73_8c8590af6cf8row9_col0\" class=\"data row9 col0\" >0.910235</td>\n",
       "                        <td id=\"T_79002164_9494_11ea_be73_8c8590af6cf8row9_col1\" class=\"data row9 col1\" >0.910235</td>\n",
       "                        <td id=\"T_79002164_9494_11ea_be73_8c8590af6cf8row9_col2\" class=\"data row9 col2\" >0.910235</td>\n",
       "                        <td id=\"T_79002164_9494_11ea_be73_8c8590af6cf8row9_col3\" class=\"data row9 col3\" >0.979276</td>\n",
       "            </tr>\n",
       "    </tbody></table>"
      ],
      "text/plain": [
       "<pandas.io.formats.style.Styler at 0x11d213b50>"
      ]
     },
     "execution_count": 198,
     "metadata": {},
     "output_type": "execute_result"
    }
   ],
   "source": [
    "# Precision\n",
    "\n",
    "df_p = get_df(res, models, L_array, 1)\n",
    "df_p.style.apply(highlight_max)"
   ]
  },
  {
   "cell_type": "code",
   "execution_count": 199,
   "metadata": {},
   "outputs": [
    {
     "data": {
      "text/html": [
       "<style  type=\"text/css\" >\n",
       "    #T_7b75212e_9494_11ea_be73_8c8590af6cf8row0_col3 {\n",
       "            background-color:  yellow;\n",
       "        }    #T_7b75212e_9494_11ea_be73_8c8590af6cf8row1_col3 {\n",
       "            background-color:  yellow;\n",
       "        }    #T_7b75212e_9494_11ea_be73_8c8590af6cf8row2_col3 {\n",
       "            background-color:  yellow;\n",
       "        }    #T_7b75212e_9494_11ea_be73_8c8590af6cf8row3_col3 {\n",
       "            background-color:  yellow;\n",
       "        }    #T_7b75212e_9494_11ea_be73_8c8590af6cf8row4_col3 {\n",
       "            background-color:  yellow;\n",
       "        }    #T_7b75212e_9494_11ea_be73_8c8590af6cf8row5_col3 {\n",
       "            background-color:  yellow;\n",
       "        }    #T_7b75212e_9494_11ea_be73_8c8590af6cf8row6_col0 {\n",
       "            background-color:  yellow;\n",
       "        }    #T_7b75212e_9494_11ea_be73_8c8590af6cf8row6_col1 {\n",
       "            background-color:  yellow;\n",
       "        }    #T_7b75212e_9494_11ea_be73_8c8590af6cf8row6_col2 {\n",
       "            background-color:  yellow;\n",
       "        }    #T_7b75212e_9494_11ea_be73_8c8590af6cf8row6_col3 {\n",
       "            background-color:  yellow;\n",
       "        }    #T_7b75212e_9494_11ea_be73_8c8590af6cf8row7_col3 {\n",
       "            background-color:  yellow;\n",
       "        }    #T_7b75212e_9494_11ea_be73_8c8590af6cf8row8_col3 {\n",
       "            background-color:  yellow;\n",
       "        }    #T_7b75212e_9494_11ea_be73_8c8590af6cf8row9_col3 {\n",
       "            background-color:  yellow;\n",
       "        }</style><table id=\"T_7b75212e_9494_11ea_be73_8c8590af6cf8\" ><thead>    <tr>        <th class=\"blank level0\" ></th>        <th class=\"col_heading level0 col0\" >L</th>        <th class=\"col_heading level0 col1\" >L/2</th>        <th class=\"col_heading level0 col2\" >L/5</th>        <th class=\"col_heading level0 col3\" >L/10</th>    </tr></thead><tbody>\n",
       "                <tr>\n",
       "                        <th id=\"T_7b75212e_9494_11ea_be73_8c8590af6cf8level0_row0\" class=\"row_heading level0 row0\" >Bidirectional LSTM</th>\n",
       "                        <td id=\"T_7b75212e_9494_11ea_be73_8c8590af6cf8row0_col0\" class=\"data row0 col0\" >0.687788</td>\n",
       "                        <td id=\"T_7b75212e_9494_11ea_be73_8c8590af6cf8row0_col1\" class=\"data row0 col1\" >0.699945</td>\n",
       "                        <td id=\"T_7b75212e_9494_11ea_be73_8c8590af6cf8row0_col2\" class=\"data row0 col2\" >0.832468</td>\n",
       "                        <td id=\"T_7b75212e_9494_11ea_be73_8c8590af6cf8row0_col3\" class=\"data row0 col3\" >1</td>\n",
       "            </tr>\n",
       "            <tr>\n",
       "                        <th id=\"T_7b75212e_9494_11ea_be73_8c8590af6cf8level0_row1\" class=\"row_heading level0 row1\" >CNN</th>\n",
       "                        <td id=\"T_7b75212e_9494_11ea_be73_8c8590af6cf8row1_col0\" class=\"data row1 col0\" >0.640077</td>\n",
       "                        <td id=\"T_7b75212e_9494_11ea_be73_8c8590af6cf8row1_col1\" class=\"data row1 col1\" >0.661642</td>\n",
       "                        <td id=\"T_7b75212e_9494_11ea_be73_8c8590af6cf8row1_col2\" class=\"data row1 col2\" >0.838954</td>\n",
       "                        <td id=\"T_7b75212e_9494_11ea_be73_8c8590af6cf8row1_col3\" class=\"data row1 col3\" >1</td>\n",
       "            </tr>\n",
       "            <tr>\n",
       "                        <th id=\"T_7b75212e_9494_11ea_be73_8c8590af6cf8level0_row2\" class=\"row_heading level0 row2\" >ResNet + BiLSTM</th>\n",
       "                        <td id=\"T_7b75212e_9494_11ea_be73_8c8590af6cf8row2_col0\" class=\"data row2 col0\" >0.695186</td>\n",
       "                        <td id=\"T_7b75212e_9494_11ea_be73_8c8590af6cf8row2_col1\" class=\"data row2 col1\" >0.712841</td>\n",
       "                        <td id=\"T_7b75212e_9494_11ea_be73_8c8590af6cf8row2_col2\" class=\"data row2 col2\" >0.854169</td>\n",
       "                        <td id=\"T_7b75212e_9494_11ea_be73_8c8590af6cf8row2_col3\" class=\"data row2 col3\" >1</td>\n",
       "            </tr>\n",
       "            <tr>\n",
       "                        <th id=\"T_7b75212e_9494_11ea_be73_8c8590af6cf8level0_row3\" class=\"row_heading level0 row3\" >ResNet</th>\n",
       "                        <td id=\"T_7b75212e_9494_11ea_be73_8c8590af6cf8row3_col0\" class=\"data row3 col0\" >0.685001</td>\n",
       "                        <td id=\"T_7b75212e_9494_11ea_be73_8c8590af6cf8row3_col1\" class=\"data row3 col1\" >0.704566</td>\n",
       "                        <td id=\"T_7b75212e_9494_11ea_be73_8c8590af6cf8row3_col2\" class=\"data row3 col2\" >0.843878</td>\n",
       "                        <td id=\"T_7b75212e_9494_11ea_be73_8c8590af6cf8row3_col3\" class=\"data row3 col3\" >1</td>\n",
       "            </tr>\n",
       "            <tr>\n",
       "                        <th id=\"T_7b75212e_9494_11ea_be73_8c8590af6cf8level0_row4\" class=\"row_heading level0 row4\" >Conv1D + BiLSTM</th>\n",
       "                        <td id=\"T_7b75212e_9494_11ea_be73_8c8590af6cf8row4_col0\" class=\"data row4 col0\" >0.687145</td>\n",
       "                        <td id=\"T_7b75212e_9494_11ea_be73_8c8590af6cf8row4_col1\" class=\"data row4 col1\" >0.699138</td>\n",
       "                        <td id=\"T_7b75212e_9494_11ea_be73_8c8590af6cf8row4_col2\" class=\"data row4 col2\" >0.843622</td>\n",
       "                        <td id=\"T_7b75212e_9494_11ea_be73_8c8590af6cf8row4_col3\" class=\"data row4 col3\" >1</td>\n",
       "            </tr>\n",
       "            <tr>\n",
       "                        <th id=\"T_7b75212e_9494_11ea_be73_8c8590af6cf8level0_row5\" class=\"row_heading level0 row5\" >LSTM</th>\n",
       "                        <td id=\"T_7b75212e_9494_11ea_be73_8c8590af6cf8row5_col0\" class=\"data row5 col0\" >0.629034</td>\n",
       "                        <td id=\"T_7b75212e_9494_11ea_be73_8c8590af6cf8row5_col1\" class=\"data row5 col1\" >0.648789</td>\n",
       "                        <td id=\"T_7b75212e_9494_11ea_be73_8c8590af6cf8row5_col2\" class=\"data row5 col2\" >0.832553</td>\n",
       "                        <td id=\"T_7b75212e_9494_11ea_be73_8c8590af6cf8row5_col3\" class=\"data row5 col3\" >1</td>\n",
       "            </tr>\n",
       "            <tr>\n",
       "                        <th id=\"T_7b75212e_9494_11ea_be73_8c8590af6cf8level0_row6\" class=\"row_heading level0 row6\" >ResNet + BiLSTM (pairwise)</th>\n",
       "                        <td id=\"T_7b75212e_9494_11ea_be73_8c8590af6cf8row6_col0\" class=\"data row6 col0\" >0.730031</td>\n",
       "                        <td id=\"T_7b75212e_9494_11ea_be73_8c8590af6cf8row6_col1\" class=\"data row6 col1\" >0.74742</td>\n",
       "                        <td id=\"T_7b75212e_9494_11ea_be73_8c8590af6cf8row6_col2\" class=\"data row6 col2\" >0.867499</td>\n",
       "                        <td id=\"T_7b75212e_9494_11ea_be73_8c8590af6cf8row6_col3\" class=\"data row6 col3\" >1</td>\n",
       "            </tr>\n",
       "            <tr>\n",
       "                        <th id=\"T_7b75212e_9494_11ea_be73_8c8590af6cf8level0_row7\" class=\"row_heading level0 row7\" >CatBoost</th>\n",
       "                        <td id=\"T_7b75212e_9494_11ea_be73_8c8590af6cf8row7_col0\" class=\"data row7 col0\" >0.683071</td>\n",
       "                        <td id=\"T_7b75212e_9494_11ea_be73_8c8590af6cf8row7_col1\" class=\"data row7 col1\" >0.693555</td>\n",
       "                        <td id=\"T_7b75212e_9494_11ea_be73_8c8590af6cf8row7_col2\" class=\"data row7 col2\" >0.82708</td>\n",
       "                        <td id=\"T_7b75212e_9494_11ea_be73_8c8590af6cf8row7_col3\" class=\"data row7 col3\" >1</td>\n",
       "            </tr>\n",
       "            <tr>\n",
       "                        <th id=\"T_7b75212e_9494_11ea_be73_8c8590af6cf8level0_row8\" class=\"row_heading level0 row8\" >Logistic Regression</th>\n",
       "                        <td id=\"T_7b75212e_9494_11ea_be73_8c8590af6cf8row8_col0\" class=\"data row8 col0\" >0.544012</td>\n",
       "                        <td id=\"T_7b75212e_9494_11ea_be73_8c8590af6cf8row8_col1\" class=\"data row8 col1\" >0.582549</td>\n",
       "                        <td id=\"T_7b75212e_9494_11ea_be73_8c8590af6cf8row8_col2\" class=\"data row8 col2\" >0.716464</td>\n",
       "                        <td id=\"T_7b75212e_9494_11ea_be73_8c8590af6cf8row8_col3\" class=\"data row8 col3\" >1</td>\n",
       "            </tr>\n",
       "            <tr>\n",
       "                        <th id=\"T_7b75212e_9494_11ea_be73_8c8590af6cf8level0_row9\" class=\"row_heading level0 row9\" >XGBoost</th>\n",
       "                        <td id=\"T_7b75212e_9494_11ea_be73_8c8590af6cf8row9_col0\" class=\"data row9 col0\" >0.690361</td>\n",
       "                        <td id=\"T_7b75212e_9494_11ea_be73_8c8590af6cf8row9_col1\" class=\"data row9 col1\" >0.700348</td>\n",
       "                        <td id=\"T_7b75212e_9494_11ea_be73_8c8590af6cf8row9_col2\" class=\"data row9 col2\" >0.832235</td>\n",
       "                        <td id=\"T_7b75212e_9494_11ea_be73_8c8590af6cf8row9_col3\" class=\"data row9 col3\" >1</td>\n",
       "            </tr>\n",
       "    </tbody></table>"
      ],
      "text/plain": [
       "<pandas.io.formats.style.Styler at 0x11bb3df40>"
      ]
     },
     "execution_count": 199,
     "metadata": {},
     "output_type": "execute_result"
    }
   ],
   "source": [
    "# Recall\n",
    "\n",
    "df_p = get_df(res, models, L_array, 2)\n",
    "df_p.style.apply(highlight_max)"
   ]
  },
  {
   "cell_type": "markdown",
   "metadata": {},
   "source": [
    "### Triangle to matrix"
   ]
  },
  {
   "cell_type": "code",
   "execution_count": 5,
   "metadata": {},
   "outputs": [],
   "source": [
    "from sklearn.metrics import confusion_matrix\n",
    "\n",
    "def cm_analysis(y_true, y_pred, labels, file, figsize=(10,10)):\n",
    "\n",
    "    cm = confusion_matrix(y_true, y_pred, labels=labels)\n",
    "    cm_sum = np.sum(cm, axis=1, keepdims=True)\n",
    "    cm_perc = cm / cm_sum.astype(float) * 100\n",
    "    annot = np.empty_like(cm).astype(str)\n",
    "    nrows, ncols = cm.shape\n",
    "    \n",
    "    for i in range(nrows):\n",
    "        for j in range(ncols):\n",
    "            c = cm[i, j]\n",
    "            p = cm_perc[i, j]\n",
    "            if i == j:\n",
    "                s = cm_sum[i]\n",
    "                annot[i, j] = '%.1f%%\\n%d/%d' % (p, c, s)\n",
    "            elif c == 0:\n",
    "                annot[i, j] = ''\n",
    "            else:\n",
    "                annot[i, j] = '%.1f%%\\n%d' % (p, c)\n",
    "                \n",
    "    cm = pd.DataFrame(cm, index=labels, columns=labels)\n",
    "    cm.index.name = 'Actual'\n",
    "    cm.columns.name = 'Predicted'\n",
    "    fig, ax = plt.subplots(figsize=figsize)\n",
    "    sns.heatmap(cm, annot=annot, cmap='YlGnBu', fmt='', ax=ax)\n",
    "    plt.savefig(file, dpi=200)"
   ]
  },
  {
   "cell_type": "code",
   "execution_count": 6,
   "metadata": {},
   "outputs": [],
   "source": [
    "test = test.reshape(780, 73, 2)\n",
    "\n",
    "for i in range(len(pred)):\n",
    "    predicted[i] = np.array(predicted[i]).reshape(780, 73, 2)"
   ]
  },
  {
   "cell_type": "code",
   "execution_count": 7,
   "metadata": {},
   "outputs": [],
   "source": [
    "test_matrix = [[[0] * 40 for i in range(40)] for i in range(np.shape(test)[1])]\n",
    "pred_matrix = [[[0] * 40 for i in range(40)] for i in range(np.shape(test)[1])]\n",
    "predictions = [[] for i in range(np.shape(test)[1])]\n",
    "test_val = [[] for i in range(np.shape(test)[1])]\n",
    "\n",
    "for i in range(np.shape(test)[1]):\n",
    "    cnt = 0\n",
    "    for j in range(40):\n",
    "        for k in range(j + 1, 40):\n",
    "            test_matrix[i][j][k] = np.argmax(test[cnt][i])\n",
    "            test_matrix[i][k][j] = np.argmax(test[cnt][i])\n",
    "            test_val[i].append(np.argmax(test[cnt][i]))\n",
    "            \n",
    "            pred_matrix[i][j][k] = np.argmax(predicted[6][cnt][i])\n",
    "            pred_matrix[i][k][j] = np.argmax(predicted[6][cnt][i])\n",
    "            predictions[i].append(np.argmax(predicted[6][cnt][i]))\n",
    "            \n",
    "            cnt += 1"
   ]
  },
  {
   "cell_type": "code",
   "execution_count": 382,
   "metadata": {},
   "outputs": [
    {
     "data": {
      "image/png": "[encoded data removed]",
      "text/plain": [
       "<Figure size 720x720 with 2 Axes>"
      ]
     },
     "metadata": {
      "needs_background": "light"
     },
     "output_type": "display_data"
    }
   ],
   "source": [
    "cm_analysis(test_val[34], predictions[34], labels = [0, 1], file='confusion_matrix')"
   ]
  },
  {
   "cell_type": "code",
   "execution_count": 317,
   "metadata": {},
   "outputs": [],
   "source": [
    "test_matrix = np.array(test_matrix)\n",
    "pred_matrix = np.array(pred_matrix)"
   ]
  },
  {
   "cell_type": "code",
   "execution_count": 314,
   "metadata": {},
   "outputs": [
    {
     "data": {
      "text/plain": [
       "((73, 40, 40), (73, 40, 40))"
      ]
     },
     "execution_count": 314,
     "metadata": {},
     "output_type": "execute_result"
    }
   ],
   "source": [
    "test_matrix.shape, pred_matrix.shape"
   ]
  },
  {
   "cell_type": "markdown",
   "metadata": {},
   "source": [
    "### Visualization"
   ]
  },
  {
   "cell_type": "code",
   "execution_count": 52,
   "metadata": {},
   "outputs": [
    {
     "data": {
      "image/png": "[encoded data removed]",
      "text/plain": [
       "<Figure size 1440x1440 with 2 Axes>"
      ]
     },
     "metadata": {
      "needs_background": "light"
     },
     "output_type": "display_data"
    },
    {
     "data": {
      "image/png": "[encoded data removed]",
      "text/plain": [
       "<Figure size 864x864 with 1 Axes>"
      ]
     },
     "metadata": {
      "needs_background": "light"
     },
     "output_type": "display_data"
    }
   ],
   "source": [
    "import cmasher as cmr\n",
    "\n",
    "cmap = cmr.eclipse\n",
    "prot_number = 34\n",
    "\n",
    "visual_pred = pred_matrix[prot_number]\n",
    "visual_test = test_matrix[prot_number]\n",
    "\n",
    "fig, (ax1, ax2)=plt.subplots(nrows = 1, ncols = 2, figsize = (20, 20))\n",
    "\n",
    "ax1.set_title('Test')\n",
    "ax1.imshow(visual_test, cmap='Greys')\n",
    "\n",
    "# for i in range(40):\n",
    "#         for j in range(40):\n",
    "#             text = ax1.text(j, i, visual_test[i][j],\n",
    "#                            ha=\"center\", va=\"center\", color=\"black\")\n",
    "            \n",
    "ax2.set_title('Predicted')\n",
    "ax2.imshow(visual_pred, cmap='Greys')\n",
    "\n",
    "# for i in range(40):\n",
    "#         for j in range(40):\n",
    "#             text = ax2.text(j, i, visual_pred[i][j],\n",
    "#                            ha=\"center\", va=\"center\", color=\"black\")\n",
    "\n",
    "plt.show()\n",
    "\n",
    "\n",
    "def visualize(prot_number):\n",
    "    visual_pred = pred_matrix[prot_number]\n",
    "    visual_test = test_matrix[prot_number]\n",
    "    fig=plt.figure(figsize=(12, 12))\n",
    "    fig.add_subplot(1, 1, 1)\n",
    "    plt.imshow(visual_test, cmap='Paired')\n",
    "    plt.imshow(visual_pred, alpha=.5, cmap='Blues')\n",
    "    plt.show()\n",
    "\n",
    "visualize(prot_number)"
   ]
  },
  {
   "cell_type": "code",
   "execution_count": null,
   "metadata": {},
   "outputs": [],
   "source": [
    "# 9, 20, 21, 34, 42, 62"
   ]
  }
 ],
 "metadata": {
  "anaconda-cloud": {},
  "kernelspec": {
   "display_name": "Python 3",
   "language": "python",
   "name": "python3"
  },
  "language_info": {
   "codemirror_mode": {
    "name": "ipython",
    "version": 3
   },
   "file_extension": ".py",
   "mimetype": "text/x-python",
   "name": "python",
   "nbconvert_exporter": "python",
   "pygments_lexer": "ipython3",
   "version": "3.8.1"
  }
 },
 "nbformat": 4,
 "nbformat_minor": 1
}
