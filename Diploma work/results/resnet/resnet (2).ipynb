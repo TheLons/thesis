{
 "cells": [
  {
   "cell_type": "code",
   "execution_count": null,
   "metadata": {
    "_cell_guid": "b1076dfc-b9ad-4769-8c92-a6c4dae69d19",
    "_uuid": "8f2839f25d086af736a60e9eeb907d3b93b6e0e5"
   },
   "outputs": [],
   "source": [
    "# This Python 3 environment comes with many helpful analytics libraries installed\n",
    "# It is defined by the kaggle/python docker image: https://github.com/kaggle/docker-python\n",
    "# For example, here's several helpful packages to load in \n",
    "\n",
    "import numpy as np # linear algebra\n",
    "import pandas as pd # data processing, CSV file I/O (e.g. pd.read_csv)\n",
    "\n",
    "# Input data files are available in the \"../input/\" directory.\n",
    "# For example, running this (by clicking run or pressing Shift+Enter) will list all files under the input directory\n",
    "\n",
    "import os\n",
    "for dirname, _, filenames in os.walk('/kaggle/input'):\n",
    "    for filename in filenames:\n",
    "        print(os.path.join(dirname, filename))\n",
    "\n",
    "# Any results you write to the current directory are saved as output."
   ]
  },
  {
   "cell_type": "code",
   "execution_count": 1,
   "metadata": {
    "_cell_guid": "79c7e3d0-c299-4dcb-8224-4455121ee9b0",
    "_uuid": "d629ff2d2480ee46fbb7e2d37f6b5fab8052498a"
   },
   "outputs": [
    {
     "name": "stderr",
     "output_type": "stream",
     "text": [
      "Using TensorFlow backend.\n"
     ]
    }
   ],
   "source": [
    "import os\n",
    "import numpy as np\n",
    "import pickle\n",
    "import keras\n",
    "import tensorflow as tf\n",
    "import warnings\n",
    "from matplotlib import pyplot as plt\n",
    "from IPython.display import clear_output\n",
    "\n",
    "from keras.models import Sequential, Input, Model\n",
    "from keras.layers import Dense, Dropout, Flatten, LSTM, Embedding, Activation, Add\n",
    "from keras.layers import Conv2D, MaxPooling2D, AveragePooling2D\n",
    "from keras.layers.normalization import BatchNormalization\n",
    "from keras.layers.advanced_activations import LeakyReLU, ReLU, ELU\n",
    "from keras.regularizers import l2 # L2-regularisation\n",
    "from keras.models import Model\n",
    "from keras import optimizers\n",
    "from keras.layers.advanced_activations import LeakyReLU\n",
    "\n",
    "warnings.filterwarnings(\"ignore\")"
   ]
  },
  {
   "cell_type": "markdown",
   "metadata": {},
   "source": [
    "### Load data"
   ]
  },
  {
   "cell_type": "code",
   "execution_count": null,
   "metadata": {},
   "outputs": [],
   "source": [
    "# def load_data(data_name):\n",
    "#     pkl_file = open(data_name + '.pkl', 'rb')\n",
    "#     data = pickle.load(pkl_file)\n",
    "#     pkl_file.close()\n",
    "#     return data\n",
    "\n",
    "# print('Loading data...')\n",
    "# folder = '../input/pairwise2540/'\n",
    "\n",
    "# train = load_data(folder + 'machine_train')\n",
    "# train_label = list(load_data(folder + 'machine_train_label'))\n",
    "# test = load_data(folder + 'machine_test')\n",
    "# test_label = list(load_data(folder + 'machine_test_label'))\n",
    "# valid = load_data(folder + 'machine_valid')\n",
    "# valid_label = list(load_data(folder + 'machine_valid_label'))\n",
    "# print('Data are loaded')"
   ]
  },
  {
   "cell_type": "code",
   "execution_count": 2,
   "metadata": {},
   "outputs": [
    {
     "name": "stdout",
     "output_type": "stream",
     "text": [
      "Loading data...\n"
     ]
    },
    {
     "ename": "FileNotFoundError",
     "evalue": "[Errno 2] No such file or directory: '../input/neuraldataset2540/neural_train.pkl'",
     "output_type": "error",
     "traceback": [
      "\u001b[0;31m---------------------------------------------------------------------------\u001b[0m",
      "\u001b[0;31mFileNotFoundError\u001b[0m                         Traceback (most recent call last)",
      "\u001b[0;32m<ipython-input-2-d88b7a1eb518>\u001b[0m in \u001b[0;36m<module>\u001b[0;34m\u001b[0m\n\u001b[1;32m      8\u001b[0m \u001b[0mfolder\u001b[0m \u001b[0;34m=\u001b[0m \u001b[0;34m'../input/neuraldataset2540/neural_'\u001b[0m\u001b[0;34m\u001b[0m\u001b[0m\n\u001b[1;32m      9\u001b[0m \u001b[0;34m\u001b[0m\u001b[0m\n\u001b[0;32m---> 10\u001b[0;31m \u001b[0mtrain\u001b[0m \u001b[0;34m=\u001b[0m \u001b[0mnp\u001b[0m\u001b[0;34m.\u001b[0m\u001b[0marray\u001b[0m\u001b[0;34m(\u001b[0m\u001b[0mload_data\u001b[0m\u001b[0;34m(\u001b[0m\u001b[0mfolder\u001b[0m \u001b[0;34m+\u001b[0m \u001b[0;34m'train'\u001b[0m\u001b[0;34m)\u001b[0m\u001b[0;34m)\u001b[0m\u001b[0;34m\u001b[0m\u001b[0m\n\u001b[0m\u001b[1;32m     11\u001b[0m \u001b[0mtrain_label\u001b[0m \u001b[0;34m=\u001b[0m \u001b[0mload_data\u001b[0m\u001b[0;34m(\u001b[0m\u001b[0mfolder\u001b[0m \u001b[0;34m+\u001b[0m \u001b[0;34m'train_label'\u001b[0m\u001b[0;34m)\u001b[0m\u001b[0;34m\u001b[0m\u001b[0m\n\u001b[1;32m     12\u001b[0m \u001b[0mtest\u001b[0m \u001b[0;34m=\u001b[0m \u001b[0mnp\u001b[0m\u001b[0;34m.\u001b[0m\u001b[0marray\u001b[0m\u001b[0;34m(\u001b[0m\u001b[0mload_data\u001b[0m\u001b[0;34m(\u001b[0m\u001b[0mfolder\u001b[0m \u001b[0;34m+\u001b[0m \u001b[0;34m'test'\u001b[0m\u001b[0;34m)\u001b[0m\u001b[0;34m)\u001b[0m\u001b[0;34m\u001b[0m\u001b[0m\n",
      "\u001b[0;32m<ipython-input-2-d88b7a1eb518>\u001b[0m in \u001b[0;36mload_data\u001b[0;34m(data_name)\u001b[0m\n\u001b[1;32m      1\u001b[0m \u001b[0;32mdef\u001b[0m \u001b[0mload_data\u001b[0m\u001b[0;34m(\u001b[0m\u001b[0mdata_name\u001b[0m\u001b[0;34m)\u001b[0m\u001b[0;34m:\u001b[0m\u001b[0;34m\u001b[0m\u001b[0m\n\u001b[0;32m----> 2\u001b[0;31m     \u001b[0mpkl_file\u001b[0m \u001b[0;34m=\u001b[0m \u001b[0mopen\u001b[0m\u001b[0;34m(\u001b[0m\u001b[0mdata_name\u001b[0m \u001b[0;34m+\u001b[0m \u001b[0;34m'.pkl'\u001b[0m\u001b[0;34m,\u001b[0m \u001b[0;34m'rb'\u001b[0m\u001b[0;34m)\u001b[0m\u001b[0;34m\u001b[0m\u001b[0m\n\u001b[0m\u001b[1;32m      3\u001b[0m     \u001b[0mdata\u001b[0m \u001b[0;34m=\u001b[0m \u001b[0mpickle\u001b[0m\u001b[0;34m.\u001b[0m\u001b[0mload\u001b[0m\u001b[0;34m(\u001b[0m\u001b[0mpkl_file\u001b[0m\u001b[0;34m)\u001b[0m\u001b[0;34m\u001b[0m\u001b[0m\n\u001b[1;32m      4\u001b[0m     \u001b[0mpkl_file\u001b[0m\u001b[0;34m.\u001b[0m\u001b[0mclose\u001b[0m\u001b[0;34m(\u001b[0m\u001b[0;34m)\u001b[0m\u001b[0;34m\u001b[0m\u001b[0m\n\u001b[1;32m      5\u001b[0m     \u001b[0;32mreturn\u001b[0m \u001b[0mdata\u001b[0m\u001b[0;34m\u001b[0m\u001b[0m\n",
      "\u001b[0;31mFileNotFoundError\u001b[0m: [Errno 2] No such file or directory: '../input/neuraldataset2540/neural_train.pkl'"
     ]
    }
   ],
   "source": [
    "def load_data(data_name):\n",
    "    pkl_file = open(data_name + '.pkl', 'rb')\n",
    "    data = pickle.load(pkl_file)\n",
    "    pkl_file.close()\n",
    "    return data\n",
    "\n",
    "print('Loading data...')\n",
    "folder = '../input/aminodataset/'\n",
    "\n",
    "train = np.array(load_data(folder + 'train'))\n",
    "train_label = load_data(folder + 'train_label')\n",
    "test = np.array(load_data(folder + 'test'))\n",
    "test_label = load_data(folder + 'test_label')\n",
    "valid = np.array(load_data(folder + 'valid'))\n",
    "valid_label = load_data(folder + 'valid_label')\n",
    "print('Data are loaded')"
   ]
  },
  {
   "cell_type": "code",
   "execution_count": null,
   "metadata": {},
   "outputs": [],
   "source": [
    "np.shape(train), np.shape(train_label)"
   ]
  },
  {
   "cell_type": "markdown",
   "metadata": {},
   "source": [
    "## ResNet"
   ]
  },
  {
   "cell_type": "code",
   "execution_count": null,
   "metadata": {},
   "outputs": [],
   "source": [
    "def relu_bn(inputs):\n",
    "    relu = (ELU(alpha=0.1))(inputs)\n",
    "    \n",
    "    return relu\n",
    "\n",
    "\n",
    "def residual_block_identity(x, filters, l2_lambda):\n",
    "    \n",
    "    f1, f2 = filters\n",
    "    \n",
    "    y = (Conv2D(filters = f1, \n",
    "                kernel_size = (5, 5),\n",
    "                activation = 'linear', \n",
    "                W_regularizer = l2(l2_lambda), \n",
    "                padding = 'same'))(x)\n",
    "    \n",
    "    y = (LeakyReLU(alpha=0.1))(y)\n",
    "    \n",
    "    y = (Conv2D(filters = f2, \n",
    "                kernel_size = (5, 5), \n",
    "                activation = 'linear', \n",
    "                W_regularizer = l2(l2_lambda), \n",
    "                padding = 'same'))(y)\n",
    "    \n",
    "    y = (LeakyReLU(alpha=0.1))(y)\n",
    "    \n",
    "    out = (Add())([x, y])\n",
    "    \n",
    "    out = (MaxPooling2D(pool_size = (2, 2),\n",
    "                        padding = 'same'))(out)\n",
    "    \n",
    "    out = (Dropout(0.3))(y)\n",
    "    \n",
    "    return out\n",
    "\n",
    "\n",
    "\n",
    "def residual_block_convolutional(x, l2_lambda):\n",
    "            \n",
    "    y = (Conv2D(filters = 16, \n",
    "               kernel_size = (1, 1),\n",
    "               strides = (2, 2),\n",
    "               activation = 'linear'))(x)\n",
    "    y = relu_bn(y)\n",
    "    \n",
    "    y = (LeakyReLU(alpha=0.1))(y)\n",
    "    \n",
    "    y = (Conv2D(filters = 32, \n",
    "               kernel_size = (5, 5),\n",
    "               padding = \"same\", \n",
    "               activation ='linear'))(y)\n",
    "    y = relu_bn(y)\n",
    "\n",
    "    y = (LeakyReLU(alpha=0.1))(y)\n",
    "    \n",
    "    x = (Conv2D(filters = 32, \n",
    "               kernel_size = (1, 1),\n",
    "               strides = (2, 2),\n",
    "               padding = \"same\", \n",
    "               activation ='linear'))(x)\n",
    "    \n",
    "    y = (LeakyReLU(alpha=0.1))(y)\n",
    "        \n",
    "    out = (Add())([x, y])\n",
    "    out = (MaxPooling2D(pool_size = (2, 2), \n",
    "                        padding = 'same'))(out)\n",
    "    out = (Dropout(0.1))(out)\n",
    "    \n",
    "    return out"
   ]
  },
  {
   "cell_type": "code",
   "execution_count": null,
   "metadata": {},
   "outputs": [],
   "source": [
    "def resnet(out_shape, mm, input_shape = (64, 64, 3), classes = 2):\n",
    "    \n",
    "    l2_lambda = 0.0001\n",
    "    num_filters = np.array([16, 32])\n",
    "    num_blocks_list = [2, 4]\n",
    "    \n",
    "    inputs = Input(input_shape)\n",
    "    \n",
    "    t = (BatchNormalization())(inputs)\n",
    "    t = (Conv2D(kernel_size = (mm, 5),\n",
    "               strides = (1, 1),\n",
    "               filters = 32,\n",
    "               padding = \"same\"))(inputs)\n",
    "        \n",
    "    for i in range(len(num_blocks_list)):\n",
    "        \n",
    "        num_blocks = num_blocks_list[i]\n",
    "        t = residual_block_convolutional(inputs, l2_lambda = l2_lambda)\n",
    "        \n",
    "        for j in range(num_blocks):\n",
    "            \n",
    "            t = residual_block_identity(t, filters = num_filters, l2_lambda = l2_lambda)\n",
    "    \n",
    "    layer4 = (Flatten())(t)\n",
    "    layer4 = (BatchNormalization())(layer4)\n",
    "    layer4 = (Dense((5 * mm), \n",
    "                    activation = 'linear', \n",
    "                    W_regularizer = l2(l2_lambda)))(layer4)\n",
    "    layer4 = (LeakyReLU(alpha = 0.1))(layer4)\n",
    "    layer4 = (Dropout(0.1))(layer4)\n",
    "    finish = []\n",
    "    \n",
    "    for i in range(int((mm ** 2 - mm) / 2)):\n",
    "        output = Dense(out_shape, activation = 'softmax', name = 'main_output'+str(i))(layer4)\n",
    "        finish.append(output)\n",
    "\n",
    "    model = Model(inputs = [inputs], outputs = finish)\n",
    "    model.compile(loss = \"categorical_crossentropy\", \n",
    "                  optimizer=keras.optimizers.Adam(lr = 0.001))\n",
    "\n",
    "    return model"
   ]
  },
  {
   "cell_type": "code",
   "execution_count": null,
   "metadata": {},
   "outputs": [],
   "source": [
    "batch_size = 8\n",
    "epochs = 25\n",
    "mm = 40\n",
    "\n",
    "model = resnet(np.shape(train_label)[2], mm, input_shape = (train.shape[1], train.shape[2], 1))\n",
    "\n",
    "print('Start training...')\n",
    "history = model.fit(train, list(train_label), batch_size = batch_size, epochs = epochs, verbose = 1,\n",
    "                          validation_data=(np.array(valid), list(valid_label)))"
   ]
  },
  {
   "cell_type": "code",
   "execution_count": null,
   "metadata": {},
   "outputs": [],
   "source": [
    "predicted = model.predict(test)\n",
    "\n",
    "print(np.shape(predicted))\n",
    "print(np.shape(test_label))\n",
    "\n",
    "output = open('predicted' + '.pkl', 'wb')\n",
    "pickle.dump(predicted, output)\n",
    "output.close()\n",
    "\n",
    "output = open('test' + '.pkl', 'wb')\n",
    "pickle.dump(test_label, output)\n",
    "output.close()"
   ]
  },
  {
   "cell_type": "code",
   "execution_count": null,
   "metadata": {},
   "outputs": [],
   "source": [
    "plt.plot(history.history['loss'])\n",
    "plt.plot(history.history['val_loss'])\n",
    "plt.title('Model loss')\n",
    "plt.ylabel('Loss')\n",
    "plt.xlabel('Epoch')\n",
    "plt.legend(['Train', 'Test'], loc='upper left')\n",
    "plt.savefig('resnet')"
   ]
  },
  {
   "cell_type": "code",
   "execution_count": null,
   "metadata": {},
   "outputs": [],
   "source": [
    "from sklearn.metrics import f1_score\n",
    "from sklearn.metrics import accuracy_score\n",
    "import operator\n",
    "from sklearn.metrics import recall_score\n",
    "from sklearn.metrics import precision_score\n",
    "\n",
    "\n",
    "def score(test_label, predicted, metric):\n",
    "    \n",
    "    predicted = np.array(predicted).reshape(780 * 73, 2)\n",
    "    test_label = np.array(test_label).reshape(780 * 73, 2)\n",
    "    \n",
    "    id_score = {}\n",
    "    pred = []\n",
    "    test = []\n",
    "    \n",
    "    L = []\n",
    "    L_2 = []\n",
    "    L_5 = []\n",
    "    L_10 = []\n",
    "    \n",
    "    for i in range(len(predicted)):\n",
    "        id_score[i] = predicted[i][1]\n",
    "        \n",
    "    for key, value in reversed(sorted(id_score.items(), key=operator.itemgetter(1))):\n",
    "        pred.append(np.argmax([1 - value, value]))\n",
    "        test.append(np.argmax(test_label[key]))\n",
    "        \n",
    "    if metric == 'recall':\n",
    "        \n",
    "        L.append(recall_score(test, pred))\n",
    "        L_2.append(recall_score(test[:len(test) // 2], pred[:len(pred) // 2]))\n",
    "        L_5.append(recall_score(test[:len(test) // 5], pred[:len(pred) // 5]))\n",
    "        L_10.append(recall_score(test[:len(test) // 10], pred[:len(pred) // 10]))\n",
    "        \n",
    "    elif metric == 'f1':\n",
    "        \n",
    "        L.append(f1_score(test, pred))\n",
    "        L_2.append(f1_score(test[:len(test) // 2], pred[:len(pred) // 2]))\n",
    "        L_5.append(f1_score(test[:len(test) // 5], pred[:len(pred) // 5]))\n",
    "        L_10.append(f1_score(test[:len(test) // 10], pred[:len(pred) // 10]))\n",
    "        \n",
    "    elif metric == 'precision':\n",
    "        \n",
    "        L.append(precision_score(test, pred))\n",
    "        L_2.append(precision_score(test[:len(test) // 2], pred[:len(pred) // 2]))\n",
    "        L_5.append(precision_score(test[:len(test) // 5], pred[:len(pred) // 5]))\n",
    "        L_10.append(precision_score(test[:len(test) // 10], pred[:len(pred) // 10]))\n",
    "        \n",
    "    else:\n",
    "        \n",
    "        raise ValueError('No metric was found')\n",
    "            \n",
    "    return L, L_2, L_5, L_10"
   ]
  },
  {
   "cell_type": "code",
   "execution_count": null,
   "metadata": {},
   "outputs": [],
   "source": [
    "def print_results(test_label, proba):\n",
    "    \n",
    "    # f1 score\n",
    "    \n",
    "    L, L_2, L_5, L_10 = score(test_label, proba, 'f1')\n",
    "    print('F1 score:')\n",
    "    print('L:', L)\n",
    "    print('L_2:', L_2)\n",
    "    print('L_5:', L_5)\n",
    "    print('L_10:', L_10)\n",
    "    \n",
    "    # precision score\n",
    "    \n",
    "    L, L_2, L_5, L_10 = score(test_label, proba, 'precision')\n",
    "    print('Precision score:')\n",
    "    print('L:', L)\n",
    "    print('L_2:', L_2)\n",
    "    print('L_5:', L_5)\n",
    "    print('L_10:', L_10)\n",
    "    \n",
    "    \n",
    "    # recall score\n",
    "    \n",
    "    L, L_2, L_5, L_10 = score(test_label, proba, 'recall')\n",
    "    print('Recall score:')\n",
    "    print('L:', L)\n",
    "    print('L_2:', L_2)\n",
    "    print('L_5:', L_5)\n",
    "    print('L_10:', L_10)"
   ]
  },
  {
   "cell_type": "code",
   "execution_count": null,
   "metadata": {},
   "outputs": [],
   "source": [
    "print_results(test_label, predicted)"
   ]
  },
  {
   "cell_type": "code",
   "execution_count": null,
   "metadata": {},
   "outputs": [],
   "source": [
    "# from keras.utils import plot_model\n",
    "# from IPython.display import Image\n",
    "# from matplotlib.pyplot import savefig\n",
    "\n",
    "# model = resnet(np.shape(train_label)[2], mm, input_shape = (train.shape[1], train.shape[2], 1))\n",
    "# plot_model(model, show_shapes=True, show_layer_names=True, to_file='lstm_arch.png')\n",
    "\n",
    "# # Image(retina=True, filename='model2.png')"
   ]
  },
  {
   "cell_type": "code",
   "execution_count": null,
   "metadata": {},
   "outputs": [],
   "source": []
  }
 ],
 "metadata": {
  "kernelspec": {
   "display_name": "Python 3",
   "language": "python",
   "name": "python3"
  },
  "language_info": {
   "codemirror_mode": {
    "name": "ipython",
    "version": 3
   },
   "file_extension": ".py",
   "mimetype": "text/x-python",
   "name": "python",
   "nbconvert_exporter": "python",
   "pygments_lexer": "ipython3",
   "version": "3.8.1"
  }
 },
 "nbformat": 4,
 "nbformat_minor": 4
}
