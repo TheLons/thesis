{
 "cells": [
  {
   "cell_type": "code",
   "execution_count": null,
   "metadata": {
    "_cell_guid": "b1076dfc-b9ad-4769-8c92-a6c4dae69d19",
    "_uuid": "8f2839f25d086af736a60e9eeb907d3b93b6e0e5"
   },
   "outputs": [],
   "source": [
    "# This Python 3 environment comes with many helpful analytics libraries installed\n",
    "# It is defined by the kaggle/python docker image: https://github.com/kaggle/docker-python\n",
    "# For example, here's several helpful packages to load in \n",
    "\n",
    "import numpy as np # linear algebra\n",
    "import pandas as pd # data processing, CSV file I/O (e.g. pd.read_csv)\n",
    "\n",
    "# Input data files are available in the \"../input/\" directory.\n",
    "# For example, running this (by clicking run or pressing Shift+Enter) will list all files under the input directory\n",
    "\n",
    "import os\n",
    "for dirname, _, filenames in os.walk('/kaggle/input'):\n",
    "    for filename in filenames:\n",
    "        print(os.path.join(dirname, filename))\n",
    "\n",
    "# Any results you write to the current directory are saved as output."
   ]
  },
  {
   "cell_type": "code",
   "execution_count": 1,
   "metadata": {
    "_cell_guid": "79c7e3d0-c299-4dcb-8224-4455121ee9b0",
    "_uuid": "d629ff2d2480ee46fbb7e2d37f6b5fab8052498a"
   },
   "outputs": [
    {
     "name": "stderr",
     "output_type": "stream",
     "text": [
      "Using TensorFlow backend.\n"
     ]
    }
   ],
   "source": [
    "import os\n",
    "import numpy as np\n",
    "import pickle\n",
    "import keras\n",
    "import tensorflow as tf\n",
    "import warnings\n",
    "from matplotlib import pyplot as plt\n",
    "from IPython.display import clear_output\n",
    "\n",
    "from keras.models import Sequential, Input, Model\n",
    "from keras.layers import Dense, Dropout, Flatten, LSTM, Embedding, Activation, Add\n",
    "from keras.layers import Conv1D, MaxPooling1D, AveragePooling1D\n",
    "from keras.layers import Dense, Dropout, Embedding, LSTM, Bidirectional, ConvLSTM2D\n",
    "from keras.layers.normalization import BatchNormalization\n",
    "from keras.layers.advanced_activations import LeakyReLU, ReLU\n",
    "from keras.regularizers import l2 # L2-regularisation\n",
    "from keras.models import Model\n",
    "from keras import optimizers\n",
    "from keras.layers.advanced_activations import LeakyReLU\n",
    "\n",
    "warnings.filterwarnings(\"ignore\")"
   ]
  },
  {
   "cell_type": "code",
   "execution_count": 14,
   "metadata": {},
   "outputs": [
    {
     "name": "stdout",
     "output_type": "stream",
     "text": [
      "Loading data...\n",
      "Data are loaded\n"
     ]
    }
   ],
   "source": [
    "def load_data(data_name):\n",
    "    pkl_file = open(data_name + '.pkl', 'rb')\n",
    "    data = pickle.load(pkl_file)\n",
    "    pkl_file.close()\n",
    "    return data\n",
    "\n",
    "print('Loading data...')\n",
    "folder = '../input/aminodataset/'\n",
    "\n",
    "train = np.array(load_data(folder + 'train'))\n",
    "train_label = load_data(folder + 'train_label')\n",
    "test = np.array(load_data(folder + 'test'))\n",
    "test_label = load_data(folder + 'test_label')\n",
    "valid = np.array(load_data(folder + 'valid'))\n",
    "valid_label = load_data(folder + 'valid_label')\n",
    "print('Data are loaded')"
   ]
  },
  {
   "cell_type": "code",
   "execution_count": null,
   "metadata": {},
   "outputs": [],
   "source": [
    "print(cnt)"
   ]
  },
  {
   "cell_type": "code",
   "execution_count": 15,
   "metadata": {},
   "outputs": [],
   "source": [
    "train = train.reshape(train.shape[0], train.shape[1], train.shape[2])\n",
    "test = test.reshape(test.shape[0], test.shape[1], test.shape[2])\n",
    "valid = valid.reshape(valid.shape[0], valid.shape[1], valid.shape[2])"
   ]
  },
  {
   "cell_type": "code",
   "execution_count": null,
   "metadata": {},
   "outputs": [],
   "source": [
    "train.shape, np.shape(train_label)"
   ]
  },
  {
   "cell_type": "markdown",
   "metadata": {},
   "source": [
    "### LSTM"
   ]
  },
  {
   "cell_type": "code",
   "execution_count": 27,
   "metadata": {},
   "outputs": [],
   "source": [
    "def lstm(input_shape, output_shape, mm):\n",
    "    \n",
    "    l2_lambda = 0.0001\n",
    "    \n",
    "    inputs = Input(input_shape)\n",
    "    \n",
    "    layer = (LSTM(16, return_sequences=True))(inputs)\n",
    "    layer = (Dropout(0.5))(layer)\n",
    "    \n",
    "    layer = (LSTM(32, return_sequences=True))(inputs)\n",
    "    layer = (Dropout(0.5))(layer)\n",
    "    \n",
    "    layer = (LSTM(64))(layer)\n",
    "    layer = (Dropout(0.5))(layer)\n",
    "        \n",
    "#     output = (Dense(128, activation = 'linear', W_regularizer = l2(l2_lambda)))(layer) \n",
    "#     output = (ReLU())(layer)\n",
    "#     output = (Dropout(0.3))(output)\n",
    "    \n",
    "#     output = (Dense(2, activation = 'softmax', name = 'main_output' + str(i)))(output)\n",
    "\n",
    "    finish = []\n",
    "#     output = (Dense(2, activation = 'softmax', name = 'main_output'))(layer)\n",
    "    for i in range(int((mm ** 2 - mm ) / 2)):\n",
    "        output = (Dense(2, activation = 'softmax', name = 'main_output' + str(i)))(layer)\n",
    "        finish.append(output)\n",
    "\n",
    "    model = Model(inputs = [inputs], outputs = finish)\n",
    "    \n",
    "    model.compile(\n",
    "        optimizer = 'adam',\n",
    "        loss = 'categorical_crossentropy'\n",
    "    )\n",
    "    \n",
    "    return model"
   ]
  },
  {
   "cell_type": "code",
   "execution_count": null,
   "metadata": {},
   "outputs": [],
   "source": [
    "no_diag = int((mm ** 2 - mm) / 2) - (2 * mm - 3)\n",
    "no_main = int((mm ** 2 - mm) / 2)"
   ]
  },
  {
   "cell_type": "code",
   "execution_count": 17,
   "metadata": {},
   "outputs": [
    {
     "name": "stdout",
     "output_type": "stream",
     "text": [
      "Start training...\n"
     ]
    }
   ],
   "source": [
    "batch_size = 32\n",
    "epochs = 30\n",
    "mm = 40\n",
    "\n",
    "model = lstm((train.shape[1], train.shape[2]), 2, mm)\n",
    "\n",
    "class_weight = {0: 1.,\n",
    "                1: 5.}\n",
    "\n",
    "print('Start training...')\n",
    "history = model.fit(train, list(train_label), batch_size = batch_size, epochs = epochs, verbose = 0,\n",
    "                          validation_data=(valid, list(valid_label)))"
   ]
  },
  {
   "cell_type": "code",
   "execution_count": 26,
   "metadata": {},
   "outputs": [
    {
     "name": "stdout",
     "output_type": "stream",
     "text": [
      "(780, 73, 2)\n",
      "(780, 73, 2)\n"
     ]
    }
   ],
   "source": [
    "predicted = model.predict(test)\n",
    "\n",
    "print(np.shape(predicted))\n",
    "print(np.shape(test_label))\n",
    "\n",
    "output = open('predicted_l' + '.pkl', 'wb')\n",
    "pickle.dump(predicted, output)\n",
    "output.close()\n",
    "\n",
    "output = open('test_l' + '.pkl', 'wb')\n",
    "pickle.dump(test_label, output)\n",
    "output.close()"
   ]
  },
  {
   "cell_type": "code",
   "execution_count": null,
   "metadata": {},
   "outputs": [],
   "source": [
    "np.shape(predicted)"
   ]
  },
  {
   "cell_type": "code",
   "execution_count": 12,
   "metadata": {},
   "outputs": [],
   "source": [
    "predicted = np.array(predicted).reshape(780 * 73, 2)\n",
    "test_label = np.array(test_label).reshape(780 * 73, 2)"
   ]
  },
  {
   "cell_type": "code",
   "execution_count": 18,
   "metadata": {},
   "outputs": [
    {
     "data": {
      "image/png": "[encoded data removed]",
      "text/plain": [
       "<Figure size 432x288 with 1 Axes>"
      ]
     },
     "metadata": {
      "needs_background": "light"
     },
     "output_type": "display_data"
    }
   ],
   "source": [
    "# Plot training & validation loss values\n",
    "plt.plot(history.history['loss'])\n",
    "plt.plot(history.history['val_loss'])\n",
    "plt.title('Model loss')\n",
    "plt.ylabel('Loss')\n",
    "plt.xlabel('Epoch')\n",
    "plt.legend(['Train', 'Test'], loc='upper left')\n",
    "plt.savefig('bilstm')"
   ]
  },
  {
   "cell_type": "code",
   "execution_count": 23,
   "metadata": {},
   "outputs": [],
   "source": [
    "from sklearn.metrics import f1_score\n",
    "from sklearn.metrics import accuracy_score\n",
    "import operator\n",
    "from sklearn.metrics import recall_score\n",
    "from sklearn.metrics import precision_score\n",
    "\n",
    "\n",
    "def score(test_label, predicted, metric):\n",
    "    \n",
    "    predicted = np.array(predicted).reshape(780 * 73, 2)\n",
    "    test_label = np.array(test_label).reshape(780 * 73, 2)\n",
    "    \n",
    "    id_score = {}\n",
    "    pred = []\n",
    "    test = []\n",
    "    \n",
    "    L = []\n",
    "    L_2 = []\n",
    "    L_5 = []\n",
    "    L_10 = []\n",
    "    \n",
    "    for i in range(len(predicted)):\n",
    "        id_score[i] = predicted[i][1]\n",
    "        \n",
    "    for key, value in reversed(sorted(id_score.items(), key=operator.itemgetter(1))):\n",
    "        pred.append(np.argmax([1 - value, value]))\n",
    "        test.append(np.argmax(test_label[key]))\n",
    "        \n",
    "    if metric == 'recall':\n",
    "        \n",
    "        L.append(recall_score(test, pred))\n",
    "        L_2.append(recall_score(test[:len(test) // 2], pred[:len(pred) // 2]))\n",
    "        L_5.append(recall_score(test[:len(test) // 5], pred[:len(pred) // 5]))\n",
    "        L_10.append(recall_score(test[:len(test) // 10], pred[:len(pred) // 10]))\n",
    "        \n",
    "    elif metric == 'f1':\n",
    "        \n",
    "        L.append(f1_score(test, pred))\n",
    "        L_2.append(f1_score(test[:len(test) // 2], pred[:len(pred) // 2]))\n",
    "        L_5.append(f1_score(test[:len(test) // 5], pred[:len(pred) // 5]))\n",
    "        L_10.append(f1_score(test[:len(test) // 10], pred[:len(pred) // 10]))\n",
    "        \n",
    "    elif metric == 'precision':\n",
    "        \n",
    "        L.append(precision_score(test, pred))\n",
    "        L_2.append(precision_score(test[:len(test) // 2], pred[:len(pred) // 2]))\n",
    "        L_5.append(precision_score(test[:len(test) // 5], pred[:len(pred) // 5]))\n",
    "        L_10.append(precision_score(test[:len(test) // 10], pred[:len(pred) // 10]))\n",
    "        \n",
    "    else:\n",
    "        \n",
    "        raise ValueError('No metric was found')\n",
    "            \n",
    "    return L, L_2, L_5, L_10"
   ]
  },
  {
   "cell_type": "code",
   "execution_count": 24,
   "metadata": {},
   "outputs": [],
   "source": [
    "def print_results(test_label, proba):\n",
    "    \n",
    "    # f1 score\n",
    "    \n",
    "    L, L_2, L_5, L_10 = score(test_label, proba, 'f1')\n",
    "    print('F1 score:')\n",
    "    print('L:', L)\n",
    "    print('L_2:', L_2)\n",
    "    print('L_5:', L_5)\n",
    "    print('L_10:', L_10)\n",
    "    \n",
    "    # precision score\n",
    "    \n",
    "    L, L_2, L_5, L_10 = score(test_label, proba, 'precision')\n",
    "    print('Precision score:')\n",
    "    print('L:', L)\n",
    "    print('L_2:', L_2)\n",
    "    print('L_5:', L_5)\n",
    "    print('L_10:', L_10)\n",
    "    \n",
    "    \n",
    "    # recall score\n",
    "    \n",
    "    L, L_2, L_5, L_10 = score(test_label, proba, 'recall')\n",
    "    print('Recall score:')\n",
    "    print('L:', L)\n",
    "    print('L_2:', L_2)\n",
    "    print('L_5:', L_5)\n",
    "    print('L_10:', L_10)"
   ]
  },
  {
   "cell_type": "code",
   "execution_count": 25,
   "metadata": {},
   "outputs": [
    {
     "name": "stdout",
     "output_type": "stream",
     "text": [
      "F1 score:\n",
      "L: [0.7717293233082705]\n",
      "L_2: [0.7793233311061167]\n",
      "L_5: [0.8551053052519328]\n",
      "L_10: [0.9803921568627451]\n",
      "Precision score:\n",
      "L: [0.8790079473828446]\n",
      "L_2: [0.8790079473828446]\n",
      "L_5: [0.8790079473828446]\n",
      "L_10: [0.9615384615384616]\n",
      "Recall score:\n",
      "L: [0.6877881419534684]\n",
      "L_2: [0.6999454446262957]\n",
      "L_5: [0.8324682065922657]\n",
      "L_10: [1.0]\n"
     ]
    }
   ],
   "source": [
    "print_results(test_label, predicted)"
   ]
  },
  {
   "cell_type": "code",
   "execution_count": null,
   "metadata": {},
   "outputs": [],
   "source": [
    "from keras.utils import plot_model\n",
    "from IPython.display import Image\n",
    "from matplotlib.pyplot import savefig\n",
    "\n",
    "model = bilstm((train.shape[1], train.shape[2]), 2, mm)\n",
    "\n",
    "plot_model(model, show_shapes=True, show_layer_names=True, to_file='lstm_arch.png')\n",
    "\n",
    "# Image(retina=True, filename='model2.png')"
   ]
  },
  {
   "cell_type": "code",
   "execution_count": null,
   "metadata": {},
   "outputs": [],
   "source": []
  }
 ],
 "metadata": {
  "kernelspec": {
   "display_name": "Python 3",
   "language": "python",
   "name": "python3"
  },
  "language_info": {
   "codemirror_mode": {
    "name": "ipython",
    "version": 3
   },
   "file_extension": ".py",
   "mimetype": "text/x-python",
   "name": "python",
   "nbconvert_exporter": "python",
   "pygments_lexer": "ipython3",
   "version": "3.8.1"
  }
 },
 "nbformat": 4,
 "nbformat_minor": 4
}
