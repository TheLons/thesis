{
 "cells": [
  {
   "cell_type": "code",
   "execution_count": null,
   "metadata": {},
   "outputs": [],
   "source": [
    "import os\n",
    "for dirname, _, filenames in os.walk('/kaggle/input'):\n",
    "    for filename in filenames:\n",
    "        print(os.path.join(dirname, filename))"
   ]
  },
  {
   "cell_type": "code",
   "execution_count": null,
   "metadata": {},
   "outputs": [],
   "source": [
    "t_label.shape"
   ]
  },
  {
   "cell_type": "code",
   "execution_count": null,
   "metadata": {},
   "outputs": [],
   "source": [
    "valid_label.shape"
   ]
  },
  {
   "cell_type": "code",
   "execution_count": 1,
   "metadata": {},
   "outputs": [
    {
     "name": "stderr",
     "output_type": "stream",
     "text": [
      "Using TensorFlow backend.\n"
     ]
    }
   ],
   "source": [
    "import os\n",
    "import numpy as np\n",
    "import pickle\n",
    "import keras\n",
    "from matplotlib import pyplot as plt\n",
    "\n",
    "from keras.models import Sequential, Input, Model\n",
    "from keras.layers import Dense, Dropout, Flatten, LSTM, Embedding, Activation\n",
    "from keras.layers import Conv2D, MaxPooling2D, AveragePooling2D, Conv1D, Bidirectional\n",
    "from keras.layers.normalization import BatchNormalization\n",
    "from keras.layers.advanced_activations import LeakyReLU\n",
    "from keras.regularizers import l2 # L2-regularisation\n",
    "from keras.activations import sigmoid\n",
    "from keras.models import Model\n",
    "import tensorflow as tf\n",
    "import warnings"
   ]
  },
  {
   "cell_type": "code",
   "execution_count": 2,
   "metadata": {},
   "outputs": [
    {
     "name": "stdout",
     "output_type": "stream",
     "text": [
      "Loading data...\n",
      "Data are loaded\n"
     ]
    }
   ],
   "source": [
    "def load_data(data_name):\n",
    "    pkl_file = open(data_name + '.pkl', 'rb')\n",
    "    data = pickle.load(pkl_file)\n",
    "    pkl_file.close()\n",
    "    return data\n",
    "\n",
    "print('Loading data...')\n",
    "folder = '../input/aminodataset/'\n",
    "\n",
    "train = load_data(folder + 'train')\n",
    "train_label = load_data(folder + 'train_label')\n",
    "test = load_data(folder + 'test')\n",
    "test_label = load_data(folder + 'test_label')\n",
    "valid = load_data(folder + 'valid')\n",
    "valid_label = load_data(folder + 'valid_label')\n",
    "print('Data are loaded')\n"
   ]
  },
  {
   "cell_type": "code",
   "execution_count": null,
   "metadata": {},
   "outputs": [],
   "source": [
    "train.shape, np.shape(train_label), np.shape(test), np.shape(test_label)"
   ]
  },
  {
   "cell_type": "code",
   "execution_count": null,
   "metadata": {},
   "outputs": [],
   "source": [
    "train = train.reshape(train.shape[0], train.shape[1], train.shape[2])\n",
    "test = test.reshape(test.shape[0], test.shape[1], test.shape[2])\n",
    "valid = valid.reshape(valid.shape[0], valid.shape[1], valid.shape[2])"
   ]
  },
  {
   "cell_type": "markdown",
   "metadata": {},
   "source": [
    "## CNN model"
   ]
  },
  {
   "cell_type": "code",
   "execution_count": 20,
   "metadata": {},
   "outputs": [],
   "source": [
    "os.environ['CUDA_VISIBLE_DEVICES'] = '-1'\n",
    "os.environ['TF_CPP_MIN_LOG_LEVEL'] = '3'\n",
    "\n",
    "\n",
    "warnings.filterwarnings(\"ignore\")\n",
    "\n",
    "\n",
    "l2_lambda = 0.0001\n",
    "\n",
    "batch_size = 8\n",
    "epochs = 30\n",
    "\n",
    "reg = l2(l2_lambda)\n",
    "init=\"he_normal\"\n",
    "\n",
    "\n",
    "def cnn(input_shape, mm, output_shape):\n",
    "\n",
    "    input_layer = Input(input_shape)\n",
    "    layer1 = (Conv2D(8, (mm, 5), activation='linear', W_regularizer=l2(l2_lambda), padding='same'))(input_layer)\n",
    "    layer1 = (LeakyReLU(alpha=0.1))(layer1)\n",
    "    layer1 = (MaxPooling2D(pool_size=(4, 4),padding='same'))(layer1)\n",
    "    \n",
    "    layer1 = (Conv2D(16, (mm, 5), activation='linear', W_regularizer=l2(l2_lambda), padding='same'))(layer1)\n",
    "    layer1 = (LeakyReLU(alpha=0.1))(layer1)\n",
    "    layer1 = (MaxPooling2D(pool_size=(4, 4),padding='same'))(layer1)\n",
    "    layer1 = (Dropout(0.5))(layer1)\n",
    "\n",
    "    layer4 = (Flatten())(layer1)\n",
    "    finish = []\n",
    "\n",
    "#     output = Dense(int((mm ** 2 - mm) / 2), activation='softmax', name='main_output')(layer4)\n",
    "    for i in range(int((mm ** 2 - mm) / 2)):\n",
    "        output = Dense(output_shape, activation='softmax', name='main_output'+str(i))(layer4)\n",
    "        finish.append(output)\n",
    "        \n",
    "\n",
    "    model = Model(inputs=[input_layer], outputs=finish)\n",
    "    model.compile(loss = \"categorical_crossentropy\", optimizer=keras.optimizers.Adam(lr=0.001))\n",
    "    \n",
    "    return model"
   ]
  },
  {
   "cell_type": "markdown",
   "metadata": {},
   "source": [
    "## cnn1d + bilstm + cnn1d + dense"
   ]
  },
  {
   "cell_type": "code",
   "execution_count": null,
   "metadata": {},
   "outputs": [],
   "source": [
    "# try solution\n",
    "\n",
    "from keras import regularizers\n",
    "\n",
    "def bilstm(input_shape, output_shape, mm):\n",
    "    \n",
    "    l2_lambda = 0.00001\n",
    "    \n",
    "    inputs = Input(input_shape)\n",
    "    \n",
    "    layer = Conv1D(128, mm, activation='linear', padding='valid', W_regularizer=l2(l2_lambda))(inputs)\n",
    "    layer = (Dropout(0.4))(layer)\n",
    "#     layer = Conv1D(64, mm, activation='linear', padding='valid', W_regularizer=l2(l2_lambda))(layer)\n",
    "#     layer = (Dropout(0.4))(layer)\n",
    "#     layer = Conv1D(128, mm, activation='linear', padding='valid', W_regularizer=l2(l2_lambda))(layer)\n",
    "#     layer = (Dropout(0.4))(layer)\n",
    "    \n",
    "    layer = (Flatten())(layer)\n",
    "    \n",
    "#     layer = (Bidirectional(LSTM(64, return_sequences=True)))(layer)\n",
    "#     layer = (Dropout(0.4))(layer)\n",
    "    \n",
    "# #     layer = Conv1D(64, mm, activation='linear', padding='valid', W_regularizer=l2(l2_lambda))(layer)\n",
    "    \n",
    "#     layer = (Bidirectional(LSTM(128, return_sequences=True)))(layer)\n",
    "#     layer = (Dropout(0.4))(layer)\n",
    "    \n",
    "# #     layer = Conv1D(128, mm, activation='linear', padding='valid', W_regularizer=l2(l2_lambda))(layer)\n",
    "    \n",
    "#     layer = (Bidirectional(LSTM(256, return_sequences=True)))(layer)\n",
    "#     layer = (Dropout(0.4))(layer)\n",
    "    \n",
    "#     layer = (Bidirectional(LSTM(512)))(layer)\n",
    "#     layer = (Dropout(0.4))(layer)\n",
    "    \n",
    "#     layer = (Bidirectional(LSTM(1024)))(layer)\n",
    "#     layer = (Dropout(0.4))(layer)\n",
    "    \n",
    "#     output = (Dense(512, activation = 'linear', W_regularizer = l2(l2_lambda)))(layer)\n",
    "#     output = (LeakyReLU())(output)\n",
    "#     output = (Dropout(0.5))(output)\n",
    "    \n",
    "#     output = (Dense(512, activation = 'linear', W_regularizer = l2(l2_lambda)))(output)\n",
    "#     output = (LeakyReLU())(output)\n",
    "#     output = (Dropout(0.5))(output)\n",
    "    \n",
    "#     output = (Dense(16, activation = 'linear', W_regularizer = l2(l2_lambda)))(output)\n",
    "#     output = (LeakyReLU())(output)\n",
    "#     output = (Dropout(0.4))(output)\n",
    "    \n",
    "#     output = (Dense(2, activation = 'softmax', name = 'main_output' + str(i)))(layer)\n",
    "\n",
    "    finish = []\n",
    "    for i in range(int((mm ** 2 - mm) / 2)):\n",
    "        output = (Dense(2, activation = 'softmax', name = 'main_output' + str(i)))(output)\n",
    "        finish.append(output)\n",
    "\n",
    "    model = Model(inputs = [inputs], outputs = finish)\n",
    "    \n",
    "    model.compile(\n",
    "        optimizer = 'adam',\n",
    "        loss = 'categorical_crossentropy'\n",
    "    )\n",
    "    \n",
    "    return model"
   ]
  },
  {
   "cell_type": "code",
   "execution_count": 21,
   "metadata": {},
   "outputs": [
    {
     "name": "stdout",
     "output_type": "stream",
     "text": [
      "Start training...\n"
     ]
    }
   ],
   "source": [
    "batch_size = 32\n",
    "epochs = 25\n",
    "mm = 40\n",
    "\n",
    "model = cnn((train.shape[1], train.shape[2], 1), mm, 2)\n",
    "\n",
    "class_weight = {0: 1.,\n",
    "                1: 5.}\n",
    "\n",
    "print('Start training...')\n",
    "history = model.fit(train, list(train_label), batch_size = batch_size, epochs = epochs, verbose = 0,\n",
    "                          validation_data=(valid, list(valid_label)))"
   ]
  },
  {
   "cell_type": "code",
   "execution_count": null,
   "metadata": {},
   "outputs": [],
   "source": [
    "np.shape(train), np.shape(test_label)"
   ]
  },
  {
   "cell_type": "code",
   "execution_count": null,
   "metadata": {},
   "outputs": [],
   "source": [
    "from keras.utils import plot_model\n",
    "from IPython.display import Image\n",
    "from matplotlib.pyplot import savefig\n",
    "\n",
    "model = cnn((train.shape[1], train.shape[2], 1), mm, 2)\n",
    "\n",
    "plot_model(model, show_shapes=True, show_layer_names=True, to_file='model2.png')\n",
    "\n",
    "# Image(retina=True, filename='model2.png')\n",
    "\n",
    "# with open(\"model.png\", \"wb\") as png:\n",
    "#     png.write(Image())"
   ]
  },
  {
   "cell_type": "code",
   "execution_count": null,
   "metadata": {},
   "outputs": [],
   "source": [
    "no_diag = int((mm ** 2 - mm) / 2) - (2 * mm - 3)\n",
    "no_main = int((mm ** 2 - mm) / 2)"
   ]
  },
  {
   "cell_type": "code",
   "execution_count": null,
   "metadata": {},
   "outputs": [],
   "source": [
    "print('Start training...')\n",
    "\n",
    "model = cnn((train.shape[1], train.shape[2], 1), mm, 2)\n",
    "\n",
    "train_dropout = model.fit(train, list(train_label), batch_size = batch_size, epochs = epochs, verbose = 1,\n",
    "                          validation_data = (np.array(valid), list(valid_label)))"
   ]
  },
  {
   "cell_type": "code",
   "execution_count": 23,
   "metadata": {},
   "outputs": [
    {
     "name": "stdout",
     "output_type": "stream",
     "text": [
      "(780, 73, 2)\n",
      "(780, 73, 2)\n"
     ]
    }
   ],
   "source": [
    "predicted = model.predict(test)\n",
    "\n",
    "print(np.shape(predicted))\n",
    "print(np.shape(test_label))\n",
    "\n",
    "output = open('cnn' + '.pkl', 'wb')\n",
    "pickle.dump(predicted, output)\n",
    "output.close()\n",
    "\n",
    "output = open('test_label' + '.pkl', 'wb')\n",
    "pickle.dump(test_label, output)\n",
    "output.close()"
   ]
  },
  {
   "cell_type": "code",
   "execution_count": null,
   "metadata": {},
   "outputs": [],
   "source": [
    "np.shape(predicted)"
   ]
  },
  {
   "cell_type": "code",
   "execution_count": 22,
   "metadata": {},
   "outputs": [
    {
     "data": {
      "image/png": "[encoded data removed]",
      "text/plain": [
       "<Figure size 432x288 with 1 Axes>"
      ]
     },
     "metadata": {
      "needs_background": "light"
     },
     "output_type": "display_data"
    }
   ],
   "source": [
    "\n",
    "# Plot training & validation loss values\n",
    "plt.plot(history.history['loss'])\n",
    "plt.plot(history.history['val_loss'])\n",
    "plt.title('Model loss')\n",
    "plt.ylabel('Loss')\n",
    "plt.xlabel('Epoch')\n",
    "plt.legend(['Train', 'Test'], loc='upper left')\n",
    "plt.show()"
   ]
  },
  {
   "cell_type": "code",
   "execution_count": null,
   "metadata": {},
   "outputs": [],
   "source": [
    "matrix = []\n",
    "\n",
    "for i in range(predicted.shape[0]):\n",
    "    mat = []\n",
    "    for j in range(predicted.shape[1]):\n",
    "        mat.append(np.argmax(predicted[i][j]))\n",
    "        \n",
    "    matrix.append(mat)"
   ]
  },
  {
   "cell_type": "code",
   "execution_count": 24,
   "metadata": {},
   "outputs": [],
   "source": [
    "from sklearn.metrics import f1_score\n",
    "from sklearn.metrics import accuracy_score\n",
    "import operator\n",
    "from sklearn.metrics import recall_score\n",
    "from sklearn.metrics import precision_score\n",
    "\n",
    "\n",
    "def score(test_label, predicted, metric):\n",
    "    \n",
    "    predicted = np.array(predicted).reshape(780 * 73, 2)\n",
    "    test_label = np.array(test_label).reshape(780 * 73, 2)\n",
    "    \n",
    "    id_score = {}\n",
    "    pred = []\n",
    "    test = []\n",
    "    \n",
    "    L = []\n",
    "    L_2 = []\n",
    "    L_5 = []\n",
    "    L_10 = []\n",
    "    \n",
    "    for i in range(len(predicted)):\n",
    "        id_score[i] = predicted[i][1]\n",
    "        \n",
    "    for key, value in reversed(sorted(id_score.items(), key=operator.itemgetter(1))):\n",
    "        pred.append(np.argmax([1 - value, value]))\n",
    "        test.append(np.argmax(test_label[key]))\n",
    "        \n",
    "    if metric == 'recall':\n",
    "        \n",
    "        L.append(recall_score(test, pred))\n",
    "        L_2.append(recall_score(test[:len(test) // 2], pred[:len(pred) // 2]))\n",
    "        L_5.append(recall_score(test[:len(test) // 5], pred[:len(pred) // 5]))\n",
    "        L_10.append(recall_score(test[:len(test) // 10], pred[:len(pred) // 10]))\n",
    "        \n",
    "    elif metric == 'f1':\n",
    "        \n",
    "        L.append(f1_score(test, pred))\n",
    "        L_2.append(f1_score(test[:len(test) // 2], pred[:len(pred) // 2]))\n",
    "        L_5.append(f1_score(test[:len(test) // 5], pred[:len(pred) // 5]))\n",
    "        L_10.append(f1_score(test[:len(test) // 10], pred[:len(pred) // 10]))\n",
    "        \n",
    "    elif metric == 'precision':\n",
    "        \n",
    "        L.append(precision_score(test, pred))\n",
    "        L_2.append(precision_score(test[:len(test) // 2], pred[:len(pred) // 2]))\n",
    "        L_5.append(precision_score(test[:len(test) // 5], pred[:len(pred) // 5]))\n",
    "        L_10.append(precision_score(test[:len(test) // 10], pred[:len(pred) // 10]))\n",
    "        \n",
    "    else:\n",
    "        \n",
    "        raise ValueError('No metric was found')\n",
    "            \n",
    "    return L, L_2, L_5, L_10"
   ]
  },
  {
   "cell_type": "code",
   "execution_count": 25,
   "metadata": {},
   "outputs": [],
   "source": [
    "def print_results(test_label, proba):\n",
    "    \n",
    "    # f1 score\n",
    "    \n",
    "    L, L_2, L_5, L_10 = score(test_label, proba, 'f1')\n",
    "    print('F1 score:')\n",
    "    print('L:', L)\n",
    "    print('L_2:', L_2)\n",
    "    print('L_5:', L_5)\n",
    "    print('L_10:', L_10)\n",
    "    \n",
    "    # precision score\n",
    "    \n",
    "    L, L_2, L_5, L_10 = score(test_label, proba, 'precision')\n",
    "    print('Precision score:')\n",
    "    print('L:', L)\n",
    "    print('L_2:', L_2)\n",
    "    print('L_5:', L_5)\n",
    "    print('L_10:', L_10)\n",
    "    \n",
    "    \n",
    "    # recall score\n",
    "    \n",
    "    L, L_2, L_5, L_10 = score(test_label, proba, 'recall')\n",
    "    print('Recall score:')\n",
    "    print('L:', L)\n",
    "    print('L_2:', L_2)\n",
    "    print('L_5:', L_5)\n",
    "    print('L_10:', L_10)"
   ]
  },
  {
   "cell_type": "code",
   "execution_count": 26,
   "metadata": {},
   "outputs": [
    {
     "name": "stdout",
     "output_type": "stream",
     "text": [
      "F1 score:\n",
      "L: [0.715187969924812]\n",
      "L_2: [0.7333168866411743]\n",
      "L_5: [0.8392743700148232]\n",
      "L_10: [0.946725860155383]\n",
      "Precision score:\n",
      "L: [0.8146067415730337]\n",
      "L_2: [0.8146067415730337]\n",
      "L_5: [0.8146067415730337]\n",
      "L_10: [0.898840885142255]\n",
      "Recall score:\n",
      "L: [0.6373968049748043]\n",
      "L_2: [0.6667788245850157]\n",
      "L_5: [0.8654826029989809]\n",
      "L_10: [1.0]\n"
     ]
    }
   ],
   "source": [
    "print_results(test_label, predicted)"
   ]
  },
  {
   "cell_type": "code",
   "execution_count": null,
   "metadata": {},
   "outputs": [],
   "source": [
    "np.shape(test_label), np.shape(predicted)"
   ]
  }
 ],
 "metadata": {
  "kernelspec": {
   "display_name": "Python 3",
   "language": "python",
   "name": "python3"
  },
  "language_info": {
   "codemirror_mode": {
    "name": "ipython",
    "version": 3
   },
   "file_extension": ".py",
   "mimetype": "text/x-python",
   "name": "python",
   "nbconvert_exporter": "python",
   "pygments_lexer": "ipython3",
   "version": "3.8.1"
  }
 },
 "nbformat": 4,
 "nbformat_minor": 4
}
